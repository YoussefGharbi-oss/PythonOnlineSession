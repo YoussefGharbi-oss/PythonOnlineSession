{
  "nbformat": 4,
  "nbformat_minor": 0,
  "metadata": {
    "colab": {
      "provenance": [],
      "authorship_tag": "ABX9TyMhBuhybiJ8ijMcFa8s5Y2g",
      "include_colab_link": true
    },
    "kernelspec": {
      "name": "python3",
      "display_name": "Python 3"
    },
    "language_info": {
      "name": "python"
    }
  },
  "cells": [
    {
      "cell_type": "markdown",
      "metadata": {
        "id": "view-in-github",
        "colab_type": "text"
      },
      "source": [
        "<a href=\"https://colab.research.google.com/github/YoussefGharbi-oss/PythonOnlineSession/blob/main/src/first_session.ipynb\" target=\"_parent\"><img src=\"https://colab.research.google.com/assets/colab-badge.svg\" alt=\"Open In Colab\"/></a>"
      ]
    },
    {
      "cell_type": "code",
      "execution_count": null,
      "metadata": {
        "id": "sZSxmYeiNcnA",
        "colab": {
          "base_uri": "https://localhost:8080/",
          "height": 36
        },
        "outputId": "acf38260-c6a7-42c0-a4d4-1cceed93624d"
      },
      "outputs": [
        {
          "output_type": "execute_result",
          "data": {
            "text/plain": [
              "'ahmed'"
            ],
            "application/vnd.google.colaboratory.intrinsic+json": {
              "type": "string"
            }
          },
          "metadata": {},
          "execution_count": 3
        }
      ],
      "source": [
        "#this_my_first_step_in_python\n",
        "name = \"Emna\"\n",
        "name = \"youssef\"\n",
        "name = \"ahmed\"\n",
        "name"
      ]
    },
    {
      "cell_type": "code",
      "source": [
        "#affichage\n",
        "#chaine_de_caractrére\n",
        "name = 'emna'\n",
        "#entier\n",
        "age = 16\n",
        "#réel/float\n",
        "moyenne = 15.5\n",
        "#boolén\n",
        "vaccinated = True\n",
        "vaccinated = False\n",
        "#none\n",
        "my_variable = None\n",
        "type(name)"
      ],
      "metadata": {
        "colab": {
          "base_uri": "https://localhost:8080/"
        },
        "id": "7T2ipC9ag8PC",
        "outputId": "0067b82c-0768-4c0c-ef75-38c95fad4c25"
      },
      "execution_count": null,
      "outputs": [
        {
          "output_type": "execute_result",
          "data": {
            "text/plain": [
              "str"
            ]
          },
          "metadata": {},
          "execution_count": 13
        }
      ]
    },
    {
      "cell_type": "code",
      "source": [
        "print(\"name :\" ,name ,\"age : \", age ,\"ans\", \"moyenne : \",moyenne)"
      ],
      "metadata": {
        "colab": {
          "base_uri": "https://localhost:8080/"
        },
        "id": "PPwOfEdkhahL",
        "outputId": "506e2eed-b64c-4585-e6f4-1a99b94eb0fc"
      },
      "execution_count": null,
      "outputs": [
        {
          "output_type": "stream",
          "name": "stdout",
          "text": [
            "name : ahmed age :  23 ans moyenne :  18.5\n"
          ]
        }
      ]
    },
    {
      "cell_type": "code",
      "source": [
        "#addition\n",
        "add  = 5+5\n",
        "#soustraction\n",
        "soustraction = 5-5\n",
        "#multiplication\n",
        "multiply = 5*5\n",
        "#division\n",
        "division = 15/3\n",
        "#div\n",
        "div = 15//3\n",
        "#mode (entier)\n",
        "mod = 15%4\n",
        "print(mod)"
      ],
      "metadata": {
        "colab": {
          "base_uri": "https://localhost:8080/"
        },
        "id": "vQTn9c1xssI8",
        "outputId": "40f6faa4-1882-425b-aa3f-53e2d2bda94f"
      },
      "execution_count": null,
      "outputs": [
        {
          "output_type": "stream",
          "name": "stdout",
          "text": [
            "3\n"
          ]
        }
      ]
    },
    {
      "cell_type": "code",
      "source": [
        "my_name = input(\"saisir votre nom : \")\n"
      ],
      "metadata": {
        "colab": {
          "base_uri": "https://localhost:8080/"
        },
        "id": "9-iTfLjXuF9X",
        "outputId": "87ae0579-d7fe-4921-87b8-b3217b07f697"
      },
      "execution_count": null,
      "outputs": [
        {
          "output_type": "stream",
          "name": "stdout",
          "text": [
            "saisir votre nom : youssef\n",
            "youssef\n"
          ]
        }
      ]
    },
    {
      "cell_type": "code",
      "source": [
        "note1 = int(input(\"votre note : \"))\n",
        "note2 = int(input(\"votre note : \"))\n",
        "note3 = int(input(\"votre note : \"))\n",
        "moy = (note1+note2+note3)/3\n",
        "print('votre moyenne est :' , moy)"
      ],
      "metadata": {
        "colab": {
          "base_uri": "https://localhost:8080/"
        },
        "id": "yIUGiK2WwK8o",
        "outputId": "b5af4397-6850-42fc-d83b-0985c60a2e9f"
      },
      "execution_count": null,
      "outputs": [
        {
          "output_type": "stream",
          "name": "stdout",
          "text": [
            "votre note : 15\n",
            "votre note : 4\n",
            "votre note : 16\n",
            "votre moyenne est : 11.666666666666666\n"
          ]
        }
      ]
    },
    {
      "cell_type": "code",
      "source": [
        "first_name = str(input('enter Your firstname : \\n')) #type casting\n",
        "last_name = str(input('Enter your last name : \\n'))\n",
        "age = int(input(\"enter your age : \"))\n",
        "#concatination deux chaines de caractéere\n",
        "print(\"your name is \" + first_name + \" your last name is \" + last_name , age )"
      ],
      "metadata": {
        "id": "g2ekuqPs4h2p"
      },
      "execution_count": null,
      "outputs": []
    },
    {
      "cell_type": "code",
      "source": [
        "first_name=str(input(\"enter your first name\"))\n",
        "last_name=str(input(\"enter your last name\"))\n",
        "print(\"good morning \"+first_name +last_name)\n",
        "n1=float(input(\"please \"+first_name+last_name+\" enter your first note\"))\n",
        "n2=float(input(\"please \"+first_name+last_name+\" enter your secoond note\"))\n",
        "n3=float(input(\"please \"+first_name+last_name+\" enter your third note\"))\n",
        "moy=(n1+n2+n3)/3\n",
        "print(first_name+last_name+\" your mean:\", moy)"
      ],
      "metadata": {
        "id": "Ma9WUKSVA6Ta"
      },
      "execution_count": null,
      "outputs": []
    }
  ]
}