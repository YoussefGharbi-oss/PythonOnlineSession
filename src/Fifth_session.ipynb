{
  "nbformat": 4,
  "nbformat_minor": 0,
  "metadata": {
    "colab": {
      "provenance": [],
      "authorship_tag": "ABX9TyOB2XQaiuSOQ8MnZPQsf1Ep",
      "include_colab_link": true
    },
    "kernelspec": {
      "name": "python3",
      "display_name": "Python 3"
    },
    "language_info": {
      "name": "python"
    }
  },
  "cells": [
    {
      "cell_type": "markdown",
      "metadata": {
        "id": "view-in-github",
        "colab_type": "text"
      },
      "source": [
        "<a href=\"https://colab.research.google.com/github/YoussefGharbi-oss/PythonOnlineSession/blob/main/src/Fifth_session.ipynb\" target=\"_parent\"><img src=\"https://colab.research.google.com/assets/colab-badge.svg\" alt=\"Open In Colab\"/></a>"
      ]
    },
    {
      "cell_type": "code",
      "execution_count": null,
      "metadata": {
        "id": "26S3UBiW_VyN"
      },
      "outputs": [],
      "source": [
        "#----------List--------\n",
        "#-------List are ordred--------\n",
        "#-------List are mutable------- ADD , Remove , Edit\n",
        "#List elements have Different types"
      ]
    },
    {
      "cell_type": "code",
      "source": [
        "#Creation List\n",
        "my_Awsome_List = [1,2,3,\"Emna \" ,[1,2,3] , 3.14 , True , None , (1,5,6)]\n",
        "my_Awsome_List"
      ],
      "metadata": {
        "colab": {
          "base_uri": "https://localhost:8080/"
        },
        "id": "DdRooZ1DCzSM",
        "outputId": "66d44ebf-ce6f-4316-857d-7f33112d597b"
      },
      "execution_count": null,
      "outputs": [
        {
          "output_type": "execute_result",
          "data": {
            "text/plain": [
              "[1, 2, 3, 'Emna ', [1, 2, 3], 3.14, True, None, (1, 5, 6)]"
            ]
          },
          "metadata": {},
          "execution_count": 1
        }
      ]
    },
    {
      "cell_type": "code",
      "source": [
        "#Indexation\n",
        "my_Awsome_List = [1, 2, 3, \"Emna \" , [1,2,3] , 3.14 , True , None , (1,5,6)]\n",
        "my_list = [[1,2,3],[1,2,3],[1,2,3]]\n",
        "\n",
        "print(my_Awsome_List[0])\n",
        "print(my_Awsome_List[-1])\n",
        "print(my_Awsome_List[2])\n",
        "print(my_Awsome_List[-3])\n",
        "print(my_Awsome_List[4][-2])\n",
        "print(my_list[2][-1])"
      ],
      "metadata": {
        "colab": {
          "base_uri": "https://localhost:8080/"
        },
        "id": "uADj0iTbDQJb",
        "outputId": "a4ea6651-751c-4730-e17f-533014af3d68"
      },
      "execution_count": null,
      "outputs": [
        {
          "output_type": "stream",
          "name": "stdout",
          "text": [
            "1\n",
            "(1, 5, 6)\n",
            "3\n",
            "True\n",
            "2\n",
            "3\n"
          ]
        }
      ]
    },
    {
      "cell_type": "code",
      "source": [
        "my_songs = [\"blinding lights\" , \"billie jeans \" , \"the conquest of paradise\"]\n",
        "print(my_songs[::-1])\n",
        "print(my_songs[2])"
      ],
      "metadata": {
        "colab": {
          "base_uri": "https://localhost:8080/"
        },
        "id": "9lmOdfmeFdij",
        "outputId": "c3eed21c-fa6e-4da5-f922-cda4b8b4c2f8"
      },
      "execution_count": null,
      "outputs": [
        {
          "output_type": "stream",
          "name": "stdout",
          "text": [
            "['the conquest of paradise', 'billie jeans ', 'blinding lights']\n",
            "the conquest of paradise\n"
          ]
        }
      ]
    },
    {
      "cell_type": "code",
      "source": [
        "#Slicing [start:End:Step]\n",
        "my_songs = [\"blinding lights\" , \"billie jeans \" , \"the conquest of paradise\" , \"Today was a good day\" , \"sing for the moment \",\"beautiful\"]\n",
        "my_songs[::] #output list\n",
        "my_songs[::2] #display by 2\n",
        "my_songs[0:3:1] #isplay the first 3 items\n",
        "my_songs[1:] #diplay from the second position"
      ],
      "metadata": {
        "colab": {
          "base_uri": "https://localhost:8080/"
        },
        "id": "dBi9CL1HFtwu",
        "outputId": "93be8710-37a0-415b-cf47-b2d7c886ae5f"
      },
      "execution_count": null,
      "outputs": [
        {
          "output_type": "execute_result",
          "data": {
            "text/plain": [
              "['billie jeans ',\n",
              " 'the conquest of paradise',\n",
              " 'Today was a good day',\n",
              " 'sing for the moment ',\n",
              " 'beautiful']"
            ]
          },
          "metadata": {},
          "execution_count": 19
        }
      ]
    },
    {
      "cell_type": "code",
      "source": [
        "#Exercice 2\n",
        "my_numbers_list = [5,8,9,17, 9*5 , 8//2]\n",
        "print(my_numbers_list[1:3])\n",
        "print(sum(my_numbers_list[0:2]))\n",
        "\n"
      ],
      "metadata": {
        "colab": {
          "base_uri": "https://localhost:8080/"
        },
        "id": "FBsM4nQWIBGY",
        "outputId": "92598737-4101-4b2e-83b6-cf88bce4e93a"
      },
      "execution_count": null,
      "outputs": [
        {
          "output_type": "stream",
          "name": "stdout",
          "text": [
            "[8, 9]\n",
            "13\n"
          ]
        }
      ]
    },
    {
      "cell_type": "code",
      "source": [
        "#List Methods\n",
        "print(dir(list))"
      ],
      "metadata": {
        "colab": {
          "base_uri": "https://localhost:8080/"
        },
        "id": "IMyLY-d_IYCT",
        "outputId": "dbca157d-3e7f-47bd-de98-e2681a93a9c6"
      },
      "execution_count": null,
      "outputs": [
        {
          "output_type": "stream",
          "name": "stdout",
          "text": [
            "['__add__', '__class__', '__class_getitem__', '__contains__', '__delattr__', '__delitem__', '__dir__', '__doc__', '__eq__', '__format__', '__ge__', '__getattribute__', '__getitem__', '__gt__', '__hash__', '__iadd__', '__imul__', '__init__', '__init_subclass__', '__iter__', '__le__', '__len__', '__lt__', '__mul__', '__ne__', '__new__', '__reduce__', '__reduce_ex__', '__repr__', '__reversed__', '__rmul__', '__setattr__', '__setitem__', '__sizeof__', '__str__', '__subclasshook__', 'append', 'clear', 'copy', 'count', 'extend', 'index', 'insert', 'pop', 'remove', 'reverse', 'sort']\n"
          ]
        }
      ]
    },
    {
      "cell_type": "code",
      "source": [
        "#Append : Add a New element\n",
        "my_list = [\"purple\" , \"green\" , \"brown\"]\n",
        "#Add Red\n",
        "my_list.append(\"red\")\n",
        "my_list"
      ],
      "metadata": {
        "colab": {
          "base_uri": "https://localhost:8080/"
        },
        "id": "fi3jhdE4Inv2",
        "outputId": "7b8cf7c6-15dd-483f-994f-188498a9cd7d"
      },
      "execution_count": null,
      "outputs": [
        {
          "output_type": "execute_result",
          "data": {
            "text/plain": [
              "['purple', 'green', 'brown', 'red']"
            ]
          },
          "metadata": {},
          "execution_count": 26
        }
      ]
    },
    {
      "cell_type": "code",
      "source": [
        "#insert : Insert Element to a specific position\n",
        "my_list .insert(1,\"grey\")\n",
        "my_list"
      ],
      "metadata": {
        "colab": {
          "base_uri": "https://localhost:8080/"
        },
        "id": "muaXqM_6JDYY",
        "outputId": "f21cded1-0b04-4305-b07d-3915dc91a2b2"
      },
      "execution_count": null,
      "outputs": [
        {
          "output_type": "execute_result",
          "data": {
            "text/plain": [
              "['purple', 'grey', 'grey', 'green', 'brown', 'red']"
            ]
          },
          "metadata": {},
          "execution_count": 28
        }
      ]
    },
    {
      "cell_type": "code",
      "source": [
        "#extend\n",
        "my_list = [\"purple\" , \"green\" , \"brown\"]\n",
        "lights = ['white' , 'black']\n",
        "my_list.extend(lights)\n",
        "my_list\n"
      ],
      "metadata": {
        "colab": {
          "base_uri": "https://localhost:8080/"
        },
        "id": "o9HLs-Y8JWGU",
        "outputId": "558c0e84-b8ea-47ad-b2d7-cd0c9aa52c08"
      },
      "execution_count": null,
      "outputs": [
        {
          "output_type": "execute_result",
          "data": {
            "text/plain": [
              "['purple', 'green', 'brown', 'white', 'black']"
            ]
          },
          "metadata": {},
          "execution_count": 29
        }
      ]
    },
    {
      "cell_type": "code",
      "source": [
        "#index : return index of an element\n",
        "my_list = [\"purple\" , \"green\" , \"brown\"]\n",
        "my_list.index(\"brown\")\n"
      ],
      "metadata": {
        "colab": {
          "base_uri": "https://localhost:8080/"
        },
        "id": "IxIMZcRxJqSl",
        "outputId": "08c60458-7a48-4ad7-8f76-e97515b816ce"
      },
      "execution_count": null,
      "outputs": [
        {
          "output_type": "execute_result",
          "data": {
            "text/plain": [
              "2"
            ]
          },
          "metadata": {},
          "execution_count": 30
        }
      ]
    },
    {
      "cell_type": "code",
      "source": [
        "#pop return element and remove it\n",
        "my_list = [\"purple\" , \"green\" , \"brown\"]\n",
        "my_list.pop(-1)\n",
        "my_list"
      ],
      "metadata": {
        "colab": {
          "base_uri": "https://localhost:8080/"
        },
        "id": "4aKQMOHkJ4Vs",
        "outputId": "61ee557d-4b83-4d50-90a1-8e5c46377f8f"
      },
      "execution_count": null,
      "outputs": [
        {
          "output_type": "execute_result",
          "data": {
            "text/plain": [
              "['purple', 'green']"
            ]
          },
          "metadata": {},
          "execution_count": 32
        }
      ]
    },
    {
      "cell_type": "code",
      "source": [
        "#count\n",
        "my_list = [\"purple\" , \"green\" , \"brown\" , \"brown\"]\n",
        "my_list.count(\"brown\")"
      ],
      "metadata": {
        "colab": {
          "base_uri": "https://localhost:8080/"
        },
        "id": "HSsSqMqGKLIx",
        "outputId": "cbd4fc3b-b5c6-486f-b446-87c0fe5e28b0"
      },
      "execution_count": null,
      "outputs": [
        {
          "output_type": "execute_result",
          "data": {
            "text/plain": [
              "2"
            ]
          },
          "metadata": {},
          "execution_count": 37
        }
      ]
    },
    {
      "cell_type": "code",
      "source": [
        "#Remove :Remove an element\n",
        "\n",
        "my_list.remove(\"green\")\n",
        "my_list"
      ],
      "metadata": {
        "colab": {
          "base_uri": "https://localhost:8080/"
        },
        "id": "UvKq1te4KftP",
        "outputId": "4b276194-1fc8-4b83-ac9d-d7c3a5047d9f"
      },
      "execution_count": null,
      "outputs": [
        {
          "output_type": "execute_result",
          "data": {
            "text/plain": [
              "['purple']"
            ]
          },
          "metadata": {},
          "execution_count": 45
        }
      ]
    },
    {
      "cell_type": "code",
      "source": [
        "#reverse\n",
        "my_list = [\"purple\" , \"green\" , \"brown\" , \"brown\"]\n",
        "my_list.reverse()\n",
        "my_list"
      ],
      "metadata": {
        "colab": {
          "base_uri": "https://localhost:8080/"
        },
        "id": "3LvRCR1xK8cb",
        "outputId": "4807d1b0-82c9-4bb1-a89e-7e90f1e2053a"
      },
      "execution_count": null,
      "outputs": [
        {
          "output_type": "execute_result",
          "data": {
            "text/plain": [
              "['brown', 'brown', 'green', 'purple']"
            ]
          },
          "metadata": {},
          "execution_count": 46
        }
      ]
    },
    {
      "cell_type": "code",
      "source": [
        "#clear : Clear all the element\n",
        "my_list.clear()\n",
        "my_list"
      ],
      "metadata": {
        "colab": {
          "base_uri": "https://localhost:8080/"
        },
        "id": "6SNMcfXLLDC6",
        "outputId": "0ebc0e5b-f616-4cff-920d-5e83f00d2a29"
      },
      "execution_count": null,
      "outputs": [
        {
          "output_type": "execute_result",
          "data": {
            "text/plain": [
              "[]"
            ]
          },
          "metadata": {},
          "execution_count": 47
        }
      ]
    },
    {
      "cell_type": "code",
      "source": [
        "#Exerice 3\n",
        "my_movies = [\"The godfather\" , \"The Dark knight\" , \"the heat \" , \"Dance life \"]\n",
        "my_movies.append(\"openheimer\")\n",
        "my_movies[1] = \"kick boxer\"\n",
        "my_movies.pop(-1)\n",
        "my_movies"
      ],
      "metadata": {
        "colab": {
          "base_uri": "https://localhost:8080/"
        },
        "id": "Bsoz9j9JNwZD",
        "outputId": "112bb739-7b60-42cf-f4d1-e60cd945a374"
      },
      "execution_count": null,
      "outputs": [
        {
          "output_type": "execute_result",
          "data": {
            "text/plain": [
              "['The godfather', 'kick boxer', 'the heat ', 'Dance life ']"
            ]
          },
          "metadata": {},
          "execution_count": 50
        }
      ]
    },
    {
      "cell_type": "markdown",
      "source": [
        "#create list of songs\n",
        "append a new song\n",
        "input an song by user\n",
        "insert this song to third position\n",
        "input song\n",
        "remove it from the list\n",
        "display the final list"
      ],
      "metadata": {
        "id": "GUI4-ob8OwSu"
      }
    },
    {
      "cell_type": "code",
      "source": [
        "#Sort\n",
        "my_numbers = [5,18,20,16,14,1,2,4]\n",
        "my_numbers.sort()\n",
        "my_numbers"
      ],
      "metadata": {
        "colab": {
          "base_uri": "https://localhost:8080/"
        },
        "id": "7AuIhqVZRw8M",
        "outputId": "eaa57404-53ba-491b-89ad-2d6f4d1fd418"
      },
      "execution_count": null,
      "outputs": [
        {
          "output_type": "execute_result",
          "data": {
            "text/plain": [
              "[1, 2, 4, 5, 14, 16, 18, 20]"
            ]
          },
          "metadata": {},
          "execution_count": 51
        }
      ]
    },
    {
      "cell_type": "code",
      "source": [
        "#concatination\n",
        "my_list_one =[\n",
        "  \"Ahmed \" ,\n",
        "  True ,\n",
        "  [5,4,7]\n",
        "]\n",
        "my_list_two = [5,7,8,9,]\n",
        "my_list = my_list_one + my_list_two\n",
        "my_list.reverse()\n",
        "my_list"
      ],
      "metadata": {
        "colab": {
          "base_uri": "https://localhost:8080/"
        },
        "id": "4VDMd6JRR-lX",
        "outputId": "8452c7fb-a85f-4eb0-bf16-26e5f2587a31"
      },
      "execution_count": null,
      "outputs": [
        {
          "output_type": "execute_result",
          "data": {
            "text/plain": [
              "[9, 8, 7, 5, [5, 4, 7], True, 'Ahmed ']"
            ]
          },
          "metadata": {},
          "execution_count": 54
        }
      ]
    },
    {
      "cell_type": "code",
      "source": [
        "#Repeatition\n",
        "repeated_list = [1,2,5,6] * 3\n",
        "repeated_list\n"
      ],
      "metadata": {
        "colab": {
          "base_uri": "https://localhost:8080/"
        },
        "id": "jqt0XRIsSggF",
        "outputId": "6f728250-7975-4e56-adc8-a71564bf45fa"
      },
      "execution_count": null,
      "outputs": [
        {
          "output_type": "execute_result",
          "data": {
            "text/plain": [
              "[1, 2, 5, 6, 1, 2, 5, 6, 1, 2, 5, 6]"
            ]
          },
          "metadata": {},
          "execution_count": 56
        }
      ]
    },
    {
      "cell_type": "code",
      "source": [
        "my_list_one =[\n",
        "  \"Ahmed\" ,\n",
        "  True ,\n",
        "  [5,4,7]\n",
        "]\n",
        "print(\"Ahmed\" in my_list_one)\n",
        "print(5 in my_list_one[2])"
      ],
      "metadata": {
        "colab": {
          "base_uri": "https://localhost:8080/"
        },
        "id": "zRRsX8uMSxKC",
        "outputId": "3d92da94-4b2f-4431-8bd4-b29092875cfe"
      },
      "execution_count": null,
      "outputs": [
        {
          "output_type": "stream",
          "name": "stdout",
          "text": [
            "True\n"
          ]
        }
      ]
    },
    {
      "cell_type": "markdown",
      "source": [
        "Create Two lists (types)\n",
        "concatinate\n",
        "sort it\n",
        "reverse it\n",
        "input a value\n",
        "verif if this Value in List\n",
        "display final List"
      ],
      "metadata": {
        "id": "gZ4shPzCTIAf"
      }
    },
    {
      "cell_type": "code",
      "source": [
        "list_one = [1,3,8,5]\n",
        "list_two = [8,9,5,7]\n",
        "my_list = list_one + list_two\n",
        "my_list.sort()\n",
        "my_list.reverse()\n",
        "item = int(input(\"Enter A value : \"))\n",
        "if item in my_list :\n",
        "  print(\"Exist\")\n",
        "else :\n",
        "  print(\"not Found\")\n",
        "print(my_list)"
      ],
      "metadata": {
        "colab": {
          "base_uri": "https://localhost:8080/"
        },
        "id": "kx-VMHJ8U9sO",
        "outputId": "7a362256-e6bc-4c5b-cb72-2d42ab8b2510"
      },
      "execution_count": null,
      "outputs": [
        {
          "output_type": "stream",
          "name": "stdout",
          "text": [
            "Enter A value : 9\n",
            "Exist\n",
            "[9, 8, 8, 7, 5, 5, 3, 1]\n"
          ]
        }
      ]
    },
    {
      "cell_type": "code",
      "source": [
        "#Maximum\n",
        "list_one = [1,3,8,5]\n",
        "print(max(list_one))"
      ],
      "metadata": {
        "colab": {
          "base_uri": "https://localhost:8080/"
        },
        "id": "zOyPLrLuVoAK",
        "outputId": "c5156295-83dc-48b2-b820-30e1ba941ae0"
      },
      "execution_count": null,
      "outputs": [
        {
          "output_type": "stream",
          "name": "stdout",
          "text": [
            "8\n"
          ]
        }
      ]
    },
    {
      "cell_type": "code",
      "source": [
        "#minimum\n",
        "list_one = [1,3,8,5]\n",
        "\n",
        "min_item = min(list_one)\n",
        "list_one.remove(min_item)\n",
        "list_one\n"
      ],
      "metadata": {
        "colab": {
          "base_uri": "https://localhost:8080/"
        },
        "id": "kkDI9a2vVw2o",
        "outputId": "a63b474b-6aab-425e-bb67-11d300ee4faa"
      },
      "execution_count": null,
      "outputs": [
        {
          "output_type": "execute_result",
          "data": {
            "text/plain": [
              "[3, 8, 5]"
            ]
          },
          "metadata": {},
          "execution_count": 68
        }
      ]
    },
    {
      "cell_type": "code",
      "source": [
        "#somme\n",
        "print(sum(list_one))"
      ],
      "metadata": {
        "colab": {
          "base_uri": "https://localhost:8080/"
        },
        "id": "3XJzElVLV146",
        "outputId": "d3af6e95-d42b-407c-8dca-a5b4203054a1"
      },
      "execution_count": null,
      "outputs": [
        {
          "output_type": "stream",
          "name": "stdout",
          "text": [
            "17\n"
          ]
        }
      ]
    },
    {
      "cell_type": "code",
      "source": [
        "#length\n",
        "print(len(list_one))"
      ],
      "metadata": {
        "colab": {
          "base_uri": "https://localhost:8080/"
        },
        "id": "HlsC5pyVV183",
        "outputId": "e93b3633-0a59-4c59-894e-1803d5d95269"
      },
      "execution_count": null,
      "outputs": [
        {
          "output_type": "stream",
          "name": "stdout",
          "text": [
            "4\n"
          ]
        }
      ]
    },
    {
      "cell_type": "code",
      "source": [
        "numbers = [1,2,6,7]\n",
        "value = int(input(\"Enter a value : \"))\n",
        "numbers.append(value)\n",
        "minimum = min(numbers)\n",
        "maximum = max(numbers)\n",
        "somme = sum(numbers)\n",
        "length = len(numbers)\n",
        "print(f\"{numbers} has a minmum :  {minimum} and a maximum : {maximum} and a sum :{somme} and a length : {length}\")\n",
        "numbers.remove(minimum)\n",
        "numbers\n"
      ],
      "metadata": {
        "colab": {
          "base_uri": "https://localhost:8080/"
        },
        "id": "wOXVItZHYRWu",
        "outputId": "a35a22be-3b30-4a5d-ca5c-88bf555f52fb"
      },
      "execution_count": null,
      "outputs": [
        {
          "output_type": "stream",
          "name": "stdout",
          "text": [
            "Enter a value : 14\n",
            "[1, 2, 6, 7, 14] has a minmum :  1 and a maximum : 14 and a sum :30 and a length : 5\n"
          ]
        },
        {
          "output_type": "execute_result",
          "data": {
            "text/plain": [
              "[2, 6, 7, 14]"
            ]
          },
          "metadata": {},
          "execution_count": 69
        }
      ]
    },
    {
      "cell_type": "markdown",
      "source": [
        "Create List of numbers\n",
        "input\n",
        "append a new item\n",
        "display min , max , sum , len\n",
        "remove index min"
      ],
      "metadata": {
        "id": "KV5Fd9axWCOJ"
      }
    }
  ]
}