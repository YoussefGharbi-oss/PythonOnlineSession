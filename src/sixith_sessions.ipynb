{
  "nbformat": 4,
  "nbformat_minor": 0,
  "metadata": {
    "colab": {
      "provenance": [],
      "authorship_tag": "ABX9TyPsP8B70gDNMXsiZKxbk4ri",
      "include_colab_link": true
    },
    "kernelspec": {
      "name": "python3",
      "display_name": "Python 3"
    },
    "language_info": {
      "name": "python"
    }
  },
  "cells": [
    {
      "cell_type": "markdown",
      "metadata": {
        "id": "view-in-github",
        "colab_type": "text"
      },
      "source": [
        "<a href=\"https://colab.research.google.com/github/YoussefGharbi-oss/PythonOnlineSession/blob/main/src/sixith_sessions.ipynb\" target=\"_parent\"><img src=\"https://colab.research.google.com/assets/colab-badge.svg\" alt=\"Open In Colab\"/></a>"
      ]
    },
    {
      "cell_type": "code",
      "execution_count": 1,
      "metadata": {
        "colab": {
          "base_uri": "https://localhost:8080/"
        },
        "id": "kU3pgTatHX-1",
        "outputId": "8c6edfaa-4aa0-4572-e2bc-da2867373c35"
      },
      "outputs": [
        {
          "output_type": "stream",
          "name": "stdout",
          "text": [
            "etudiant1\n",
            "etudiant1\n",
            "etudiant1\n",
            "etudiant1\n",
            "etudiant1\n"
          ]
        }
      ],
      "source": [
        "#les Boucles ----------------\n",
        "# loops : iteration ---------\n",
        "# loops are available in all langauge programming : python , c , java , javascript , c++ , c# , pascal\n",
        "#for  ------------------------\n",
        "#while ------------------\n",
        "#syntax for looop\n",
        "#for item in seaquence(string , list , tuple ,iterables )\n",
        "\"\"\"for item in sequence :\n",
        "  print()\n",
        "  somme\n",
        "  multiplication\n",
        "  for\n",
        "\"\"\""
      ]
    },
    {
      "cell_type": "code",
      "source": [
        "#String :\n",
        "for i in \"Emna\" :\n",
        "  if i in  \"Ea\" :\n",
        "    print(i)\n"
      ],
      "metadata": {
        "colab": {
          "base_uri": "https://localhost:8080/"
        },
        "id": "sT_lpqpPMxOq",
        "outputId": "d0e3c270-6e26-40b2-9397-1938d116b07e"
      },
      "execution_count": 4,
      "outputs": [
        {
          "output_type": "stream",
          "name": "stdout",
          "text": [
            "E\n",
            "a\n"
          ]
        }
      ]
    },
    {
      "cell_type": "code",
      "source": [
        "#list\n",
        "my_list = [\"banana\" , \"cerise \" , \"apricot\"]\n",
        "for fruit in my_list :\n",
        "  for char in fruit :\n",
        "    print(char.upper())\n",
        "\n",
        ""
      ],
      "metadata": {
        "colab": {
          "base_uri": "https://localhost:8080/"
        },
        "id": "MFfj7B3AOS6c",
        "outputId": "1ff8b430-6fc3-41dc-c547-d9a295da6d63"
      },
      "execution_count": 6,
      "outputs": [
        {
          "output_type": "stream",
          "name": "stdout",
          "text": [
            "B\n",
            "A\n",
            "N\n",
            "A\n",
            "N\n",
            "A\n",
            "C\n",
            "E\n",
            "R\n",
            "I\n",
            "S\n",
            "E\n",
            " \n",
            "A\n",
            "P\n",
            "R\n",
            "I\n",
            "C\n",
            "O\n",
            "T\n"
          ]
        }
      ]
    },
    {
      "cell_type": "code",
      "source": [
        "#tuple\n",
        "my_Awsome_tuple = (1,2,5,6,8)\n",
        "for i in my_Awsome_tuple :\n",
        "  print(i)"
      ],
      "metadata": {
        "colab": {
          "base_uri": "https://localhost:8080/"
        },
        "id": "JjdbN-71PCCZ",
        "outputId": "14c498cf-fe7a-4423-b91e-deb5745f2ec0"
      },
      "execution_count": 7,
      "outputs": [
        {
          "output_type": "stream",
          "name": "stdout",
          "text": [
            "1\n",
            "2\n",
            "5\n",
            "6\n",
            "8\n"
          ]
        }
      ]
    },
    {
      "cell_type": "code",
      "source": [
        " #1,2,3,4,5,6,7,8,9,10\n",
        "for item in range(0,100,4) :\n",
        "  print(item)"
      ],
      "metadata": {
        "colab": {
          "base_uri": "https://localhost:8080/"
        },
        "id": "rlWAuyfxQc6R",
        "outputId": "ff563a5f-6caa-4463-aca7-a6b636120566"
      },
      "execution_count": 12,
      "outputs": [
        {
          "output_type": "stream",
          "name": "stdout",
          "text": [
            "0\n",
            "4\n",
            "8\n",
            "12\n",
            "16\n",
            "20\n",
            "24\n",
            "28\n",
            "32\n",
            "36\n",
            "40\n",
            "44\n",
            "48\n",
            "52\n",
            "56\n",
            "60\n",
            "64\n",
            "68\n",
            "72\n",
            "76\n",
            "80\n",
            "84\n",
            "88\n",
            "92\n",
            "96\n"
          ]
        }
      ]
    },
    {
      "cell_type": "code",
      "source": [
        "#break\n",
        "for i in \"Emna\" :\n",
        "  print(i)\n",
        "  if i == \"m\" :\n",
        "    print(i)\n",
        "    break\n",
        ""
      ],
      "metadata": {
        "colab": {
          "base_uri": "https://localhost:8080/"
        },
        "id": "VMCPzwowQ6oY",
        "outputId": "4d31ae47-640b-4ffe-b5cc-6ba7ad563358"
      },
      "execution_count": 17,
      "outputs": [
        {
          "output_type": "stream",
          "name": "stdout",
          "text": [
            "E\n",
            "m\n",
            "m\n"
          ]
        }
      ]
    },
    {
      "cell_type": "code",
      "source": [
        "for i in range(2,21,2) :\n",
        "  print(i)"
      ],
      "metadata": {
        "colab": {
          "base_uri": "https://localhost:8080/"
        },
        "id": "ZakQSdzLSfdP",
        "outputId": "2c29a1cd-10ee-4c88-fbbb-9d012c633f39"
      },
      "execution_count": 18,
      "outputs": [
        {
          "output_type": "stream",
          "name": "stdout",
          "text": [
            "2\n",
            "4\n",
            "6\n",
            "8\n",
            "10\n",
            "12\n",
            "14\n",
            "16\n",
            "18\n",
            "20\n"
          ]
        }
      ]
    },
    {
      "cell_type": "code",
      "source": [
        "for i in range(2,21) :\n",
        "  if i % 2 == 0 :\n",
        "    print(i)"
      ],
      "metadata": {
        "colab": {
          "base_uri": "https://localhost:8080/"
        },
        "id": "RofStRTkSmkH",
        "outputId": "d425a3b3-ddd7-45b4-f253-0c3c20e087ad"
      },
      "execution_count": 20,
      "outputs": [
        {
          "output_type": "stream",
          "name": "stdout",
          "text": [
            "2\n",
            "4\n",
            "6\n",
            "8\n",
            "10\n",
            "12\n",
            "14\n",
            "16\n",
            "18\n",
            "20\n"
          ]
        }
      ]
    },
    {
      "cell_type": "code",
      "source": [
        "somme = 1\n",
        "for item in range(1,11) :\n",
        "  if item % 2 == 0:\n",
        "    somme  +=  item\n",
        "else :\n",
        "  print(\"Loop is Done\")\n",
        "print(somme)"
      ],
      "metadata": {
        "colab": {
          "base_uri": "https://localhost:8080/"
        },
        "id": "dMZ26zL9T9Mt",
        "outputId": "913a2510-4f32-48b6-b662-1c0397117a40"
      },
      "execution_count": 31,
      "outputs": [
        {
          "output_type": "stream",
          "name": "stdout",
          "text": [
            "Loop is Done\n",
            "0.00026041666666666666\n"
          ]
        }
      ]
    },
    {
      "cell_type": "code",
      "source": [
        "number = int(input(\"Enter a value : \"))\n",
        "for index in range (1,11) :\n",
        "  print(f\"{index} * {number} = {index*number}\")"
      ],
      "metadata": {
        "colab": {
          "base_uri": "https://localhost:8080/"
        },
        "id": "OZKsdIi8b2L_",
        "outputId": "5d69371d-1f92-415e-cdb3-fed0a8e2946d"
      },
      "execution_count": 34,
      "outputs": [
        {
          "output_type": "stream",
          "name": "stdout",
          "text": [
            "Enter a value : 5\n",
            "1 * 5 = 5\n",
            "2 * 5 = 10\n",
            "3 * 5 = 15\n",
            "4 * 5 = 20\n",
            "5 * 5 = 25\n",
            "6 * 5 = 30\n",
            "7 * 5 = 35\n",
            "8 * 5 = 40\n",
            "9 * 5 = 45\n",
            "10 * 5 = 50\n"
          ]
        }
      ]
    },
    {
      "cell_type": "code",
      "source": [
        "my_values = [1,2,3,5,7,8,9]\n",
        "\n",
        "for item in my_values[::-1] :\n",
        "  print(item)"
      ],
      "metadata": {
        "colab": {
          "base_uri": "https://localhost:8080/"
        },
        "id": "vp86lOk1dIRt",
        "outputId": "f5b45ea5-5a23-4df8-c8a7-54a072012407"
      },
      "execution_count": 37,
      "outputs": [
        {
          "output_type": "stream",
          "name": "stdout",
          "text": [
            "9\n",
            "8\n",
            "7\n",
            "5\n",
            "3\n",
            "2\n",
            "1\n"
          ]
        }
      ]
    },
    {
      "cell_type": "code",
      "source": [
        "my_string = \"Youssef\"\n",
        "for index in range(0,len(my_string)-1) :\n",
        "  print(my_string[index])"
      ],
      "metadata": {
        "colab": {
          "base_uri": "https://localhost:8080/"
        },
        "id": "pRkY_wXxdgi0",
        "outputId": "e56fc811-03e5-4acd-cb58-6f49cf1777a8"
      },
      "execution_count": 46,
      "outputs": [
        {
          "output_type": "stream",
          "name": "stdout",
          "text": [
            "Y\n",
            "o\n",
            "u\n",
            "s\n",
            "s\n",
            "e\n"
          ]
        }
      ]
    },
    {
      "cell_type": "code",
      "source": [
        "#Looop : While ------------------------\n",
        "#Syntax : while\n",
        "\n",
        "\n",
        "while True :\n",
        "  Value = int(input(\"Enter a value : \"))\n",
        "\n",
        "\n",
        "  if Value < 0 :\n",
        "    break\n",
        "\n"
      ],
      "metadata": {
        "colab": {
          "base_uri": "https://localhost:8080/"
        },
        "id": "guELw2ZweN6J",
        "outputId": "2213371d-89ae-46a3-a93d-086207a6471c"
      },
      "execution_count": 50,
      "outputs": [
        {
          "name": "stdout",
          "output_type": "stream",
          "text": [
            "Enter a value : 5\n",
            "Enter a value : 6\n",
            "Enter a value : 7\n",
            "Enter a value : 8\n",
            "Enter a value : 7\n",
            "Enter a value : -1\n"
          ]
        }
      ]
    },
    {
      "cell_type": "code",
      "source": [
        "value = int(input('Enter A Value : '))\n",
        "somme = 0\n",
        "while value != 0 :\n",
        "  chiffre = value%10\n",
        "  somme += chiffre\n",
        "  value = value //10\n",
        "\n",
        "else :\n",
        "  print(\"Value Become 0\")\n",
        "\n",
        "print(somme)"
      ],
      "metadata": {
        "colab": {
          "base_uri": "https://localhost:8080/"
        },
        "id": "9eUFVP7lfezO",
        "outputId": "62eab844-f139-405f-e392-5c45d3b54786"
      },
      "execution_count": 54,
      "outputs": [
        {
          "output_type": "stream",
          "name": "stdout",
          "text": [
            "Enter A Value : 3450\n",
            "Value Become 0\n",
            "12\n"
          ]
        }
      ]
    },
    {
      "cell_type": "code",
      "source": [],
      "metadata": {
        "id": "W3kVKEPdiUO8"
      },
      "execution_count": null,
      "outputs": []
    }
  ]
}