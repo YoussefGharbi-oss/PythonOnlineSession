{
  "nbformat": 4,
  "nbformat_minor": 0,
  "metadata": {
    "colab": {
      "provenance": [],
      "authorship_tag": "ABX9TyNPnOtaFII1TRHo0/lEGaIP",
      "include_colab_link": true
    },
    "kernelspec": {
      "name": "python3",
      "display_name": "Python 3"
    },
    "language_info": {
      "name": "python"
    }
  },
  "cells": [
    {
      "cell_type": "markdown",
      "metadata": {
        "id": "view-in-github",
        "colab_type": "text"
      },
      "source": [
        "<a href=\"https://colab.research.google.com/github/YoussefGharbi-oss/PythonOnlineSession/blob/main/src/second_session.ipynb\" target=\"_parent\"><img src=\"https://colab.research.google.com/assets/colab-badge.svg\" alt=\"Open In Colab\"/></a>"
      ]
    },
    {
      "cell_type": "code",
      "source": [
        "#casting a type\n",
        "age = 15\n",
        "type(age)\n",
        "float_age = float(age)\n",
        "int(float_age)\n",
        "x = 15.54\n",
        "int(x) #conversion float --> int\n",
        "str(x) #conversion int --> str\n",
        "name = \"emna\" #conversion str --> int impoossible\n",
        "isValid = None\n",
        "type(isValid)\n",
        "bool(not(isValid))\n"
      ],
      "metadata": {
        "colab": {
          "base_uri": "https://localhost:8080/"
        },
        "id": "jw4kWZaSx1_S",
        "outputId": "b9795e30-c849-481c-9dea-1acfa7290c2b"
      },
      "execution_count": 37,
      "outputs": [
        {
          "output_type": "execute_result",
          "data": {
            "text/plain": [
              "True"
            ]
          },
          "metadata": {},
          "execution_count": 37
        }
      ]
    },
    {
      "cell_type": "code",
      "source": [
        "#affectation\n",
        "name = \"youssef\"\n",
        "name = \"ahmed\"\n",
        "age = 15\n",
        "name = age\n",
        "name"
      ],
      "metadata": {
        "colab": {
          "base_uri": "https://localhost:8080/"
        },
        "id": "kOq1cMeogUer",
        "outputId": "b10d100c-9feb-47ca-831d-687c5d1c0b82"
      },
      "execution_count": 10,
      "outputs": [
        {
          "output_type": "execute_result",
          "data": {
            "text/plain": [
              "15"
            ]
          },
          "metadata": {},
          "execution_count": 10
        }
      ]
    },
    {
      "cell_type": "code",
      "execution_count": 8,
      "metadata": {
        "colab": {
          "base_uri": "https://localhost:8080/"
        },
        "id": "DPOKIBwOPbdV",
        "outputId": "978822c8-3815-47ba-dbf1-3dd4dc074adc"
      },
      "outputs": [
        {
          "output_type": "stream",
          "name": "stdout",
          "text": [
            "False\n",
            "True\n",
            "True\n",
            "True\n",
            "False\n",
            "False\n"
          ]
        }
      ],
      "source": [
        "#les operateurs logique et comparaison\n",
        "#supérieur ou égale  >=\n",
        "print(5>=6) #type booleén\n",
        "#supérieur  strictement\n",
        "print(5<6) #true\n",
        "#egalité\n",
        "print(5==5)\n",
        "#inférieur ou égale\n",
        "print(5<=6)\n",
        "#inférieur strictement\n",
        "print(5<5)\n",
        "#différent\n",
        "print(5!=5)\n"
      ]
    },
    {
      "cell_type": "code",
      "source": [
        "#if statement\n",
        "a = 15\n",
        "b = 14\n",
        "if b>a  :\n",
        "  print(\" B greater than A \")\n",
        "elif b==a :\n",
        "  print(\"B==A\")\n",
        "else :\n",
        "  print(\" A greater than B \")\n"
      ],
      "metadata": {
        "id": "n8AvwFRJguL9"
      },
      "execution_count": 16,
      "outputs": []
    },
    {
      "cell_type": "code",
      "source": [
        "#input Full name\n",
        "full_name = str(input(\"Enter your full name : \"))\n",
        "print(\"===Good morning \" + full_name + \"===\" )\n",
        "age = int(input(\"Please Enter your age : \"))\n",
        "#<6\n",
        "if age < 6 :\n",
        "  print(\"You are in kinder garden\")\n",
        "elif age > 6 and age < 12 :\n",
        "  print(\"You are at primary school\")\n",
        "elif age > 12 and age < 15 :\n",
        "  print(\"You are at prep school \")\n",
        "elif age > 15 and age < 19 :\n",
        "  print(\"You are at high school \")\n",
        "else :\n",
        "  print('you are at university ')"
      ],
      "metadata": {
        "colab": {
          "base_uri": "https://localhost:8080/"
        },
        "id": "xsyEjKjrnPjs",
        "outputId": "481c2ab9-65c0-4122-f847-8a171579eb17"
      },
      "execution_count": 18,
      "outputs": [
        {
          "output_type": "stream",
          "name": "stdout",
          "text": [
            "Enter your full name : emna rahmoune \n",
            "===Good morning emna rahmoune ===\n",
            "Please Enter your age : 19\n",
            "you are at university \n"
          ]
        }
      ]
    },
    {
      "cell_type": "code",
      "source": [
        "#and both conditions must be True\n",
        "5<6 and  7>5\n",
        "#one of the consition must be true\n",
        "5<6 and  7>5\n",
        "#negation\n"
      ],
      "metadata": {
        "colab": {
          "base_uri": "https://localhost:8080/"
        },
        "id": "TJSzlL1aqsN9",
        "outputId": "69e85453-96e7-4765-c9bd-197a015cb9b4"
      },
      "execution_count": 24,
      "outputs": [
        {
          "output_type": "execute_result",
          "data": {
            "text/plain": [
              "False"
            ]
          },
          "metadata": {},
          "execution_count": 24
        }
      ]
    },
    {
      "cell_type": "code",
      "source": [
        "a = 5\n",
        "b = 6\n",
        "print(\"A\") if a < b else print(\"B\")"
      ],
      "metadata": {
        "colab": {
          "base_uri": "https://localhost:8080/"
        },
        "id": "RGQgdzNdsoXR",
        "outputId": "499b28ce-6a90-4402-c036-f6ca4dcac052"
      },
      "execution_count": 26,
      "outputs": [
        {
          "output_type": "stream",
          "name": "stdout",
          "text": [
            "A\n"
          ]
        }
      ]
    },
    {
      "cell_type": "markdown",
      "source": [],
      "metadata": {
        "id": "L8vVQxko2hmx"
      }
    },
    {
      "cell_type": "code",
      "source": [
        "x = int(input(\"Enter X : \"))\n",
        "y = int(input(\"Enter Y : \"))\n",
        "eq_one = (x*4 + y*5)%2 == 0  # true\n",
        "\n",
        "eq_two = (x*5 + y*8)%2 == 0   # flase\n",
        "verification = not((eq_one or eq_two) and (eq_one and eq_two))\n",
        "type(verification)\n",
        "verification"
      ],
      "metadata": {
        "colab": {
          "base_uri": "https://localhost:8080/"
        },
        "id": "pyPWp0jK1If8",
        "outputId": "762522c2-647c-49f7-f15e-baecfa0e7dc4"
      },
      "execution_count": 40,
      "outputs": [
        {
          "name": "stdout",
          "output_type": "stream",
          "text": [
            "Enter X : 5\n",
            "Enter Y : 8\n"
          ]
        },
        {
          "output_type": "execute_result",
          "data": {
            "text/plain": [
              "True"
            ]
          },
          "metadata": {},
          "execution_count": 40
        }
      ]
    },
    {
      "cell_type": "code",
      "source": [
        "# enter a number\n",
        "x = int(input(\"Enter a number :\"))\n",
        "#test\n",
        "if x%2 == 0 :\n",
        "  print(\"pair\")\n",
        "else :\n",
        "  print(\"impair\")"
      ],
      "metadata": {
        "colab": {
          "base_uri": "https://localhost:8080/"
        },
        "id": "HQk2rwAw35lK",
        "outputId": "83c93c96-7b88-4f68-9f84-0809718bd0a9"
      },
      "execution_count": 45,
      "outputs": [
        {
          "output_type": "stream",
          "name": "stdout",
          "text": [
            "Enter a number :5\n",
            "impair\n"
          ]
        }
      ]
    },
    {
      "cell_type": "code",
      "source": [
        "#code improvement\n",
        "x = int(input(\"Enter a number :\"))\n",
        "print(x,\"pair \") if x%2 == 0 else print(x,'Impair ')"
      ],
      "metadata": {
        "colab": {
          "base_uri": "https://localhost:8080/"
        },
        "id": "TKy7XfCA4bvw",
        "outputId": "4ba7f23e-9ce1-4140-a222-b38cb596412e"
      },
      "execution_count": 46,
      "outputs": [
        {
          "output_type": "stream",
          "name": "stdout",
          "text": [
            "Enter a number :5\n",
            "5 Impair \n"
          ]
        }
      ]
    }
  ]
}