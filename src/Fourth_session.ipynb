{
  "nbformat": 4,
  "nbformat_minor": 0,
  "metadata": {
    "colab": {
      "provenance": [],
      "authorship_tag": "ABX9TyNli82OlnCumbKy+1NB2+wZ",
      "include_colab_link": true
    },
    "kernelspec": {
      "name": "python3",
      "display_name": "Python 3"
    },
    "language_info": {
      "name": "python"
    }
  },
  "cells": [
    {
      "cell_type": "markdown",
      "metadata": {
        "id": "view-in-github",
        "colab_type": "text"
      },
      "source": [
        "<a href=\"https://colab.research.google.com/github/YoussefGharbi-oss/PythonOnlineSession/blob/main/src/Fourth_session.ipynb\" target=\"_parent\"><img src=\"https://colab.research.google.com/assets/colab-badge.svg\" alt=\"Open In Colab\"/></a>"
      ]
    },
    {
      "cell_type": "code",
      "execution_count": null,
      "metadata": {
        "colab": {
          "base_uri": "https://localhost:8080/"
        },
        "id": "3xXptmnjQ15r",
        "outputId": "6f64307d-2237-4e00-eab2-49fd9520eae3"
      },
      "outputs": [
        {
          "output_type": "execute_result",
          "data": {
            "text/plain": [
              "()"
            ]
          },
          "metadata": {},
          "execution_count": 1
        }
      ],
      "source": [
        "#tuples :\n",
        "my_tuple = ()\n",
        "my_tuple"
      ]
    },
    {
      "cell_type": "code",
      "source": [
        "#donnes (ENtier , string , float , bool )\n",
        "number_tuple = (5,6,7,8,9)\n",
        "string_tuple = (\"Emna\" , \"Rahmoune\")\n",
        "float_tuple = (3.14 , 2.72 )\n",
        "print(number_tuple)\n",
        "print(string_tuple)\n",
        "print(float_tuple)"
      ],
      "metadata": {
        "colab": {
          "base_uri": "https://localhost:8080/"
        },
        "id": "mh1TeZ36RLX2",
        "outputId": "8c295fbe-6970-4d24-ef39-731c736b92b7"
      },
      "execution_count": null,
      "outputs": [
        {
          "output_type": "stream",
          "name": "stdout",
          "text": [
            "(5, 6, 7, 8, 9)\n",
            "('Emna', 'Rahmoune')\n",
            "(3.14, 2.72)\n"
          ]
        }
      ]
    },
    {
      "cell_type": "code",
      "source": [
        "#never modified  a tuple after  create\n",
        "number_tuple = (5,6,7,8,9)\n"
      ],
      "metadata": {
        "id": "RnW5HxvWRfqG"
      },
      "execution_count": null,
      "outputs": []
    },
    {
      "cell_type": "code",
      "source": [
        "days = (\"lundi\" ,\"mardi\", \"mercredi\" , \"Jeudi\" ,\"Vendredi\" ,\"samedi\" , \"Diamanche\")\n",
        "cord = (5,6)\n",
        "personne = (\"Youssef\" , 16 , \"youssef.gharbi@esen.tn\")\n",
        "print(days)\n",
        "print(cord)\n",
        "print(personne)"
      ],
      "metadata": {
        "colab": {
          "base_uri": "https://localhost:8080/"
        },
        "id": "ucSAEjCVUrFd",
        "outputId": "c7d2ea0d-4b3b-4df5-8143-3be20e28cf44"
      },
      "execution_count": null,
      "outputs": [
        {
          "output_type": "stream",
          "name": "stdout",
          "text": [
            "('lundi', 'mardi', 'mercredi', 'Jeudi', 'Vendredi', 'samedi', 'Diamanche')\n",
            "(5, 6)\n",
            "('Youssef', 16, 'youssef.gharbi@esen.tn')\n"
          ]
        }
      ]
    },
    {
      "cell_type": "code",
      "source": [
        "#unpacking\n",
        "my_values  = (3.15,2.0,5.5)\n",
        "a,b,c = my_values\n",
        "print(a)\n",
        "print(b)\n",
        "print(c)\n",
        "somme = a+b+c\n",
        "print(somme)\n"
      ],
      "metadata": {
        "colab": {
          "base_uri": "https://localhost:8080/"
        },
        "id": "ElBoH-6FSI6C",
        "outputId": "2cd93998-d44f-429b-f207-586374c7d8d9"
      },
      "execution_count": null,
      "outputs": [
        {
          "output_type": "stream",
          "name": "stdout",
          "text": [
            "3.15\n",
            "2.0\n",
            "5.5\n",
            "10.65\n"
          ]
        }
      ]
    },
    {
      "cell_type": "code",
      "source": [
        "#packing\n",
        "x = int(input(\"Enter a value\"))\n",
        "y = int(input(\"enter a value \"))\n",
        "my_tuple = x,y\n",
        "print(my_tuple)"
      ],
      "metadata": {
        "colab": {
          "base_uri": "https://localhost:8080/"
        },
        "id": "3FHM-ET-VUcA",
        "outputId": "ad8ba526-4470-4389-c988-c6e758d60438"
      },
      "execution_count": null,
      "outputs": [
        {
          "output_type": "stream",
          "name": "stdout",
          "text": [
            "Enter a value41\n",
            "enter a value 15\n",
            "(41, 15)\n"
          ]
        }
      ]
    },
    {
      "cell_type": "code",
      "source": [
        "#indexation\n",
        "my_tuple = (1, 2, 3, 4 )\n",
        "\n",
        "my_tuple[0]\n",
        "my_tuple[-1]\n",
        "#slicing\n",
        "my_tuple[::2]\n",
        "#reversing_tuple\n",
        "reversed_tuple = my_tuple[::-1]\n",
        "print(reversed_tuple)\n"
      ],
      "metadata": {
        "colab": {
          "base_uri": "https://localhost:8080/"
        },
        "id": "fGNk5d6WcggE",
        "outputId": "27167601-99f5-4c00-ccf6-004de0f15b78"
      },
      "execution_count": null,
      "outputs": [
        {
          "output_type": "stream",
          "name": "stdout",
          "text": [
            "(4, 3, 2, 1)\n"
          ]
        }
      ]
    },
    {
      "cell_type": "code",
      "source": [
        "#les methodes Tuples :\n",
        "#count Method\n",
        "my_tuple = (1, 2, 3, 4 , 4 , 6 , 7 , -1 , 4 , 2 )\n",
        "value = my_tuple.count(2)\n",
        "print(value)\n",
        "#index method\n",
        "index = my_tuple.index(2) #retourner le premier indice\n",
        "print(index)"
      ],
      "metadata": {
        "colab": {
          "base_uri": "https://localhost:8080/"
        },
        "id": "lIR3mkUAeXR1",
        "outputId": "22df6e20-cd26-4b18-97b7-21623c34f3b0"
      },
      "execution_count": null,
      "outputs": [
        {
          "output_type": "stream",
          "name": "stdout",
          "text": [
            "2\n",
            "1\n"
          ]
        }
      ]
    },
    {
      "cell_type": "code",
      "source": [
        "temp = (28, 15, -6, 45 )\n",
        "reversed_tuple = temp[::-1]\n",
        "second_item = temp[1]\n"
      ],
      "metadata": {
        "id": "LAK7aSUMfFag"
      },
      "execution_count": null,
      "outputs": []
    }
  ]
}