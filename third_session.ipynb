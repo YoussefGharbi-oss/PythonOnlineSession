{
  "nbformat": 4,
  "nbformat_minor": 0,
  "metadata": {
    "colab": {
      "provenance": [],
      "mount_file_id": "1crgFWOSzU5i55OebKDpjpIkiSr86NBgv",
      "authorship_tag": "ABX9TyN1BPMtcwXZYHuSLXYEXqIW",
      "include_colab_link": true
    },
    "kernelspec": {
      "name": "python3",
      "display_name": "Python 3"
    },
    "language_info": {
      "name": "python"
    }
  },
  "cells": [
    {
      "cell_type": "markdown",
      "metadata": {
        "id": "view-in-github",
        "colab_type": "text"
      },
      "source": [
        "<a href=\"https://colab.research.google.com/github/YoussefGharbi-oss/PythonOnlineSession/blob/main/third_session.ipynb\" target=\"_parent\"><img src=\"https://colab.research.google.com/assets/colab-badge.svg\" alt=\"Open In Colab\"/></a>"
      ]
    },
    {
      "cell_type": "code",
      "execution_count": null,
      "metadata": {
        "id": "w3S6oTnx2G4I"
      },
      "outputs": [],
      "source": [
        "#String\n",
        "my_string = \" Hello world ! \"\n",
        "my_string = ' Hello world ! '"
      ]
    },
    {
      "cell_type": "code",
      "source": [
        "#multiple line string\n",
        "my_string = ''' hello\n",
        "World\n",
        "Sir\n",
        "'''\n",
        "my_string"
      ],
      "metadata": {
        "colab": {
          "base_uri": "https://localhost:8080/",
          "height": 36
        },
        "id": "LMr_3PmQDYzi",
        "outputId": "3423cd23-444b-4704-a2ee-b44d739c8429"
      },
      "execution_count": null,
      "outputs": [
        {
          "output_type": "execute_result",
          "data": {
            "text/plain": [
              "' hello \\nWorld \\nSir \\n'"
            ],
            "application/vnd.google.colaboratory.intrinsic+json": {
              "type": "string"
            }
          },
          "metadata": {},
          "execution_count": 1
        }
      ]
    },
    {
      "cell_type": "code",
      "source": [
        "#Indexation :\n",
        "my_string = \"Emna\"\n",
        "print(my_string[0] )"
      ],
      "metadata": {
        "colab": {
          "base_uri": "https://localhost:8080/"
        },
        "id": "XS0sN3yhDnq5",
        "outputId": "6cd6bff7-a1d5-4657-df2b-e49b2e60cd20"
      },
      "execution_count": null,
      "outputs": [
        {
          "output_type": "stream",
          "name": "stdout",
          "text": [
            "E\n"
          ]
        }
      ]
    },
    {
      "cell_type": "code",
      "source": [
        "my_string = \"Hello world\"\n",
        "my_string[7]\n",
        "my_string[-1]"
      ],
      "metadata": {
        "colab": {
          "base_uri": "https://localhost:8080/",
          "height": 36
        },
        "id": "rqgZ-cuBEh1d",
        "outputId": "ecf65231-8f5b-4c9c-e877-294d3b16ec73"
      },
      "execution_count": null,
      "outputs": [
        {
          "output_type": "execute_result",
          "data": {
            "text/plain": [
              "'d'"
            ],
            "application/vnd.google.colaboratory.intrinsic+json": {
              "type": "string"
            }
          },
          "metadata": {},
          "execution_count": 6
        }
      ]
    },
    {
      "cell_type": "code",
      "source": [
        "#application\n",
        "my_string = \"Michael Jackson\"\n",
        "\n",
        "#indice l7aref loul\n",
        "first_index = my_string[0]\n",
        "#indice l7aref theni\n",
        "second_index = my_string[1]\n",
        "\n",
        "#indice l7aref le5er\n",
        "last_index = my_string[-1]\n",
        "\n",
        "#indice l7aref 9bal le5er\n",
        "before_last_index = my_string[-2]\n",
        "\n",
        "print(my_string[5])"
      ],
      "metadata": {
        "colab": {
          "base_uri": "https://localhost:8080/"
        },
        "id": "suK5bT-VFfj0",
        "outputId": "86dbb3fe-c6be-410e-8024-56ac78b3a641"
      },
      "execution_count": null,
      "outputs": [
        {
          "output_type": "stream",
          "name": "stdout",
          "text": [
            "e\n"
          ]
        }
      ]
    },
    {
      "cell_type": "code",
      "source": [
        "#Sous_chaine\n",
        "my_string = \"Michael Jackson\"\n",
        "\n",
        "#my_string[start:end]\n",
        "my_string[ 0 : 4 ]\n",
        "my_string[0 : 7]"
      ],
      "metadata": {
        "colab": {
          "base_uri": "https://localhost:8080/",
          "height": 36
        },
        "id": "KP52-ZRcHC4y",
        "outputId": "6aac6959-4afc-4427-c3b1-67184a825a82"
      },
      "execution_count": null,
      "outputs": [
        {
          "output_type": "execute_result",
          "data": {
            "text/plain": [
              "'Michael'"
            ],
            "application/vnd.google.colaboratory.intrinsic+json": {
              "type": "string"
            }
          },
          "metadata": {},
          "execution_count": 11
        }
      ]
    },
    {
      "cell_type": "code",
      "source": [
        "#Methodes\n",
        "#longueur\n",
        "my_string = \" MICHAEL JACKSON \"\n",
        "\n",
        "length = len(my_string)\n",
        "#lowerCase\n",
        "my_lowercase = my_string.lower()\n",
        "print(my_lowercase)\n",
        "#UpperCase\n",
        "my_UpperCase = my_string.upper()\n",
        "print(my_UpperCase)\n",
        "#strip remove spaces from start and the End\n",
        "my_string = my_string.strip()\n",
        "\n",
        "print(my_string)\n",
        "my_string_copy = my_string.split(\" \")\n",
        "print(my_string_copy)\n",
        "#replace\n",
        "my_string_copy = my_string.replace(\"MICHAEL\" , \"AHMED\")\n",
        "print(my_string_copy)"
      ],
      "metadata": {
        "colab": {
          "base_uri": "https://localhost:8080/"
        },
        "id": "C1PDM1mzIM5D",
        "outputId": "2c043b89-eddb-4c00-a770-13f0dc65a21f"
      },
      "execution_count": null,
      "outputs": [
        {
          "output_type": "stream",
          "name": "stdout",
          "text": [
            " michael jackson \n",
            " MICHAEL JACKSON \n",
            "MICHAEL JACKSON\n",
            "['MICHAEL', 'JACKSON']\n",
            "AHMED JACKSON\n"
          ]
        }
      ]
    },
    {
      "cell_type": "code",
      "source": [
        "#dir\n",
        "print(dir(int))"
      ],
      "metadata": {
        "colab": {
          "base_uri": "https://localhost:8080/"
        },
        "id": "h4N0gbv2LPSx",
        "outputId": "85d15cb5-7f5f-49c2-cc8f-0c57df9c585c"
      },
      "execution_count": null,
      "outputs": [
        {
          "output_type": "stream",
          "name": "stdout",
          "text": [
            "['__abs__', '__add__', '__and__', '__bool__', '__ceil__', '__class__', '__delattr__', '__dir__', '__divmod__', '__doc__', '__eq__', '__float__', '__floor__', '__floordiv__', '__format__', '__ge__', '__getattribute__', '__getnewargs__', '__gt__', '__hash__', '__index__', '__init__', '__init_subclass__', '__int__', '__invert__', '__le__', '__lshift__', '__lt__', '__mod__', '__mul__', '__ne__', '__neg__', '__new__', '__or__', '__pos__', '__pow__', '__radd__', '__rand__', '__rdivmod__', '__reduce__', '__reduce_ex__', '__repr__', '__rfloordiv__', '__rlshift__', '__rmod__', '__rmul__', '__ror__', '__round__', '__rpow__', '__rrshift__', '__rshift__', '__rsub__', '__rtruediv__', '__rxor__', '__setattr__', '__sizeof__', '__str__', '__sub__', '__subclasshook__', '__truediv__', '__trunc__', '__xor__', 'as_integer_ratio', 'bit_count', 'bit_length', 'conjugate', 'denominator', 'from_bytes', 'imag', 'numerator', 'real', 'to_bytes']\n"
          ]
        }
      ]
    },
    {
      "cell_type": "code",
      "source": [
        "#concatination\n",
        "# print(f\"chaine {my_variable}\")\n"
      ],
      "metadata": {
        "colab": {
          "base_uri": "https://localhost:8080/"
        },
        "id": "1ULH0jxdTSMI",
        "outputId": "594a5cdf-db56-4f87-94c8-d1e333b54f45"
      },
      "execution_count": null,
      "outputs": [
        {
          "output_type": "stream",
          "name": "stdout",
          "text": [
            "my name is Emna  and my last name is Rahmoune  \n"
          ]
        }
      ]
    },
    {
      "cell_type": "code",
      "source": [
        "my_string =  \"Hello \\\" world \"\n",
        "#new line\n",
        "name = str(input(\"Enter you name \\n \"))\n",
        "#tabulation\n",
        "name = str(input(\"Enter you name \\t \\t \\t \"))\n",
        "my_string = \"youssef \\t gharbi \"\n",
        "print(my_string)"
      ],
      "metadata": {
        "colab": {
          "base_uri": "https://localhost:8080/"
        },
        "id": "kIMFKJiDWiec",
        "outputId": "d9ff7abc-0a78-4c38-fe95-a9b9cc364de0"
      },
      "execution_count": null,
      "outputs": [
        {
          "output_type": "stream",
          "name": "stdout",
          "text": [
            "Enter you name \n",
            " youssef\n",
            "Enter you name \t \t \t gharbi\n",
            "youssef \t gharbi \n"
          ]
        }
      ]
    },
    {
      "cell_type": "code",
      "source": [
        "#slicing\n",
        "my_string = \"Hello World ! \"\n",
        "#my_string[start:End:step]\n",
        "sub_string = my_string[0: 8 : 3 ]\n",
        "sub_string = my_string[::3 ]\n",
        "\n",
        "sub_string = my_string[:len(my_string):3 ]\n",
        "\n",
        "sub_string = my_string[::-1]\n",
        "\n",
        "#_reverse string\n",
        "print(sub_string)"
      ],
      "metadata": {
        "colab": {
          "base_uri": "https://localhost:8080/"
        },
        "id": "0vZlQwJSUEo9",
        "outputId": "5b7701ae-fc37-49f9-c8dd-e04272461394"
      },
      "execution_count": null,
      "outputs": [
        {
          "output_type": "stream",
          "name": "stdout",
          "text": [
            " ! dlroW olleH\n"
          ]
        }
      ]
    },
    {
      "cell_type": "code",
      "source": [
        "#input str\n",
        "my_string = str(input(\"Enter a string \"))\n",
        "first_car = my_string[0]\n",
        "#new string\n",
        "new_string = first_car + my_string[1::].replace(first_car , \"$\")\n",
        "print(new_string)"
      ],
      "metadata": {
        "colab": {
          "base_uri": "https://localhost:8080/"
        },
        "id": "O-FeqGoGZ5kn",
        "outputId": "3f5f8a7d-9b53-437e-8d92-8e29210210c7"
      },
      "execution_count": null,
      "outputs": [
        {
          "output_type": "stream",
          "name": "stdout",
          "text": [
            "Enter a string RADARR\n",
            "RADA$$\n"
          ]
        }
      ]
    }
  ]
}