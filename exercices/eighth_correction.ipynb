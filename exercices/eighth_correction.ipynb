{
  "nbformat": 4,
  "nbformat_minor": 0,
  "metadata": {
    "colab": {
      "provenance": [],
      "authorship_tag": "ABX9TyNelLVmctMBXrdJiTlGdLBw",
      "include_colab_link": true
    },
    "kernelspec": {
      "name": "python3",
      "display_name": "Python 3"
    },
    "language_info": {
      "name": "python"
    }
  },
  "cells": [
    {
      "cell_type": "markdown",
      "metadata": {
        "id": "view-in-github",
        "colab_type": "text"
      },
      "source": [
        "<a href=\"https://colab.research.google.com/github/YoussefGharbi-oss/PythonOnlineSession/blob/main/exercices/eighth_correction.ipynb\" target=\"_parent\"><img src=\"https://colab.research.google.com/assets/colab-badge.svg\" alt=\"Open In Colab\"/></a>"
      ]
    },
    {
      "cell_type": "code",
      "execution_count": null,
      "metadata": {
        "colab": {
          "base_uri": "https://localhost:8080/"
        },
        "id": "EvMRh9VbJQT7",
        "outputId": "7fdfab3b-869a-4d9c-fa5c-2af4689f99fe"
      },
      "outputs": [
        {
          "output_type": "execute_result",
          "data": {
            "text/plain": [
              "{'lorem': 2,\n",
              " 'hbdkfl': 2,\n",
              " 'f': 1,\n",
              " 'uhfk': 1,\n",
              " 'afknaih': 1,\n",
              " 'fkhhufahkn': 1,\n",
              " 'fakfjianf': 1,\n",
              " 'af,;hhiafk': 1,\n",
              " 'af': 1}"
            ]
          },
          "metadata": {},
          "execution_count": 3
        }
      ],
      "source": [
        "#TASKONe\n",
        "def calculate_frequency(text) :\n",
        "  occurance = {\n",
        "\n",
        "  }\n",
        "  text_list = text.lower().split()\n",
        "  for word in text_list :\n",
        "    if word in occurance :\n",
        "       occurance[word] += 1\n",
        "    else :\n",
        "      occurance[word] = 1\n",
        "  return occurance\n",
        "calculate_frequency('lorem hbdkfl f uhfk afknaih fkhhufahkn fakfjianf af,;hhiafk af lorem hbdkfl ')\n"
      ]
    },
    {
      "cell_type": "code",
      "source": [
        "#Task_TWo\n",
        "def calculate_average(scores) :\n",
        "  avg = {}\n",
        "  for key in scores :\n",
        "    moyenne = sum(scores[key]) / len(scores[key])\n",
        "    avg[key] = moyenne\n",
        "\n",
        "  return avg\n",
        "\n",
        "#or\n",
        "def calculate_average_two(scores) :\n",
        "  avg = {}\n",
        "  for key in scores :\n",
        "    moyenne = 0\n",
        "    for item in scores[key] :\n",
        "      moyenne += item / len(scores[key])\n",
        "    avg[key] = moyenne\n",
        "  return avg\n",
        "\n",
        "\n",
        "scores = {\n",
        "    \"Emnna\" : [15,18,12,8] ,\n",
        "    \"youssef\": [5,15,13,16] ,\n",
        "    \"ali\" : [10,9,8,7]\n",
        "\n",
        "}\n",
        "calculate_average(scores)\n",
        "#or\n",
        "calculate_average_two(scores)"
      ],
      "metadata": {
        "colab": {
          "base_uri": "https://localhost:8080/"
        },
        "id": "N3IvIN4JO6v5",
        "outputId": "0c8bee5c-7eb2-4e6c-c877-cd02d91772c0"
      },
      "execution_count": null,
      "outputs": [
        {
          "output_type": "execute_result",
          "data": {
            "text/plain": [
              "{'Emnna': 13.25, 'youssef': 12.25, 'ali': 8.5}"
            ]
          },
          "metadata": {},
          "execution_count": 12
        }
      ]
    },
    {
      "cell_type": "code",
      "source": [
        "\n",
        "scores_etudiant = {\n",
        "    \"ahmed\" : 13.25 ,\n",
        "    \"Emna \" : 15.75 ,\n",
        "    \"alex\" : 8\n",
        "}\n",
        "for key in scores_etudiant :\n",
        "  print(key)\n",
        "moyenne = 0\n",
        "for key in scores_etudiant :\n",
        "  moyenne += scores_etudiant[key]\n",
        "print(f\"le moyenne de classe est {moyenne/len(scores_etudiant)}\")\n",
        "\n"
      ],
      "metadata": {
        "colab": {
          "base_uri": "https://localhost:8080/"
        },
        "id": "5c8X_0KwRSP3",
        "outputId": "67fff316-a311-490f-f4f5-f4ff40061054"
      },
      "execution_count": null,
      "outputs": [
        {
          "output_type": "stream",
          "name": "stdout",
          "text": [
            "ahmed\n",
            "Emna \n",
            "alex\n",
            "le moyenne de classe est 12.333333333333334\n"
          ]
        }
      ]
    },
    {
      "cell_type": "code",
      "source": [
        "nations = {\n",
        "    \"Germany\" : \"berlin\" ,\n",
        "    \"Brezil\" : \"Rio di jinero\" ,\n",
        "    \"Tunisia\" : \"tunis\" ,\n",
        "    \"France\" : \"Paris\" ,\n",
        "    \"algerie\" : \"alger\"\n",
        "}\n",
        "for key,value in nations.items() :\n",
        "  print(f\"pays est {key} capitale esy {value}\")\n",
        "\n",
        "for key,value in nations.items() :\n",
        "  if key[0].lower() == \"A\" :\n",
        "    print(f\"pays est {key} capitale esy {value}\")"
      ],
      "metadata": {
        "colab": {
          "base_uri": "https://localhost:8080/"
        },
        "id": "uhUKrmk9SPSV",
        "outputId": "41193f07-6340-46b6-f1fd-a4754abe7a19"
      },
      "execution_count": null,
      "outputs": [
        {
          "output_type": "stream",
          "name": "stdout",
          "text": [
            "pays est algerie capitale esy alger\n"
          ]
        }
      ]
    },
    {
      "cell_type": "code",
      "source": [
        "def get_value_inventory(inventory) :\n",
        "  total_value = 0\n",
        "  for key,value in inventory.items() :\n",
        "    total_value += value['prix'] * value['quantité']\n",
        "  return total_value\n",
        "\n",
        "def out_of_stock(inventory) :\n",
        "  for key,value in inventory.items() :\n",
        "    if value[\"quantité\"] < 5 :\n",
        "      print(value[\"nom\"])\n",
        "\n",
        "\n",
        "inventory = {\n",
        "    \"article1\" : {\n",
        "      \"nom\" :\"ChocoTom\" ,\n",
        "      \"prix\" : 1700 ,\n",
        "      \"quantité\" : 4\n",
        "    },\n",
        "      \"article2\" : {\n",
        "      \"nom\" :\"gaufrette\" ,\n",
        "      \"prix\" : 1200 ,\n",
        "      \"quantité\" : 10\n",
        "    },\n",
        "      \"article3\" : {\n",
        "      \"nom\" :\"eau\" ,\n",
        "      \"prix\" : 900 ,\n",
        "      \"quantité\" : 4\n",
        "    },\n",
        "}\n",
        "\n",
        "print(get_value_inventory(inventory))\n"
      ],
      "metadata": {
        "colab": {
          "base_uri": "https://localhost:8080/"
        },
        "id": "7SbWoaASTUXI",
        "outputId": "7a2585d7-326d-4db0-9a6e-a441f8e1d621"
      },
      "execution_count": null,
      "outputs": [
        {
          "output_type": "stream",
          "name": "stdout",
          "text": [
            "22400\n",
            "ChocoTom\n",
            "eau\n",
            "None\n"
          ]
        }
      ]
    }
  ]
}