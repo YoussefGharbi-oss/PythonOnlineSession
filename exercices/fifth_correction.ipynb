{
  "nbformat": 4,
  "nbformat_minor": 0,
  "metadata": {
    "colab": {
      "provenance": [],
      "authorship_tag": "ABX9TyPKNDlelo2vczTiPEmeCuuL",
      "include_colab_link": true
    },
    "kernelspec": {
      "name": "python3",
      "display_name": "Python 3"
    },
    "language_info": {
      "name": "python"
    }
  },
  "cells": [
    {
      "cell_type": "markdown",
      "metadata": {
        "id": "view-in-github",
        "colab_type": "text"
      },
      "source": [
        "<a href=\"https://colab.research.google.com/github/YoussefGharbi-oss/PythonOnlineSession/blob/main/exercices/fifth_correction.ipynb\" target=\"_parent\"><img src=\"https://colab.research.google.com/assets/colab-badge.svg\" alt=\"Open In Colab\"/></a>"
      ]
    },
    {
      "cell_type": "code",
      "execution_count": null,
      "metadata": {
        "id": "vQaVBTgGJlkR"
      },
      "outputs": [],
      "source": [
        "my_number = int(input(\"Enter A value : \"))\n",
        "factorial = 1\n",
        "if my_number < 0 :\n",
        "  factorial = None\n",
        "elif my_number == 0 :\n",
        "  factorial =  1\n",
        "else :\n",
        "  for i in range(1,my_number+1) :\n",
        "    factorial *=  i\n",
        "    print(i)\n",
        "  else :\n",
        "    print(\"loop is done\")\n",
        "\n",
        "print(f\"my factorial is {factorial}\")\n",
        "\n"
      ]
    },
    {
      "cell_type": "code",
      "source": [
        "my_number = int(input(\"Enter A value : \"))\n",
        "\n",
        "middle = my_number // 2\n",
        "i = 2\n",
        "isPrime = True\n",
        "while i <= middle :\n",
        "  if my_number % i == 0 :\n",
        "    isPrime = False\n",
        "    break\n",
        "  i += 1\n",
        "\n",
        "\n",
        "print(isPrime)"
      ],
      "metadata": {
        "colab": {
          "base_uri": "https://localhost:8080/"
        },
        "id": "SkQmc2WxONGd",
        "outputId": "d98df2a8-6e42-455f-c22c-6687bbefcb8b"
      },
      "execution_count": 6,
      "outputs": [
        {
          "output_type": "stream",
          "name": "stdout",
          "text": [
            "Enter A value : 20\n",
            "False\n"
          ]
        }
      ]
    },
    {
      "cell_type": "code",
      "source": [
        "my_string = str(input(\"Enter a string : \"))\n",
        "voyelles = [\"a\" , \"e\" , \"i\" , \"o\" ,\"u\" , \"y\"]\n",
        "voyelles_count = 0\n",
        "for char in my_string.lower() :\n",
        "  if char in  voyelles :\n",
        "    voyelles_count += 1\n",
        "\n",
        "print(f\"voyelles count{voyelles_count}\")\n"
      ],
      "metadata": {
        "colab": {
          "base_uri": "https://localhost:8080/"
        },
        "id": "xFLrmeeeQGdp",
        "outputId": "21e48456-1c96-4fd3-b9a0-1571d9886dda"
      },
      "execution_count": 7,
      "outputs": [
        {
          "output_type": "stream",
          "name": "stdout",
          "text": [
            "Enter a string : YouSSEf\n",
            "voyelles count4\n"
          ]
        }
      ]
    },
    {
      "cell_type": "code",
      "source": [
        "my_number = int(input(\"Enter A value : \"))\n",
        "etoile = \" \"\n",
        "for i in range(my_number) :\n",
        "  etoile += \"*\"\n",
        "  print(etoile)\n",
        "\n"
      ],
      "metadata": {
        "colab": {
          "base_uri": "https://localhost:8080/"
        },
        "id": "T82ud4kWUGtJ",
        "outputId": "adc42ebd-9abb-465e-ea8a-5bd800929988"
      },
      "execution_count": 12,
      "outputs": [
        {
          "output_type": "stream",
          "name": "stdout",
          "text": [
            "Enter A value : 5\n",
            " *\n",
            " **\n",
            " ***\n",
            " ****\n",
            " *****\n"
          ]
        }
      ]
    },
    {
      "cell_type": "code",
      "source": [
        "my_number = int(input(\"Enter A value : \"))\n",
        "for i in range (my_number) :\n",
        "  for j in range(i) :\n",
        "    print('*' , end = ' ')\n",
        "  print()"
      ],
      "metadata": {
        "colab": {
          "base_uri": "https://localhost:8080/"
        },
        "id": "drfvXlOOVLZG",
        "outputId": "a7cd2bbc-a68e-49bf-da0d-c9959217960b"
      },
      "execution_count": 16,
      "outputs": [
        {
          "output_type": "stream",
          "name": "stdout",
          "text": [
            "Enter A value : 8\n",
            "\n",
            "* \n",
            "* * \n",
            "* * * \n",
            "* * * * \n",
            "* * * * * \n",
            "* * * * * * \n",
            "* * * * * * * \n"
          ]
        }
      ]
    },
    {
      "cell_type": "code",
      "source": [
        "my_number = int(input(\"Enter A value : \"))\n",
        "somme = 0\n",
        "count = 0\n",
        "while my_number > 0 :\n",
        "  my_number = int(input(\"Enter A value : \"))\n",
        "  somme += my_number\n",
        "  count += 1\n",
        "\n",
        "print(f\"moyenne est {somme/count} \")"
      ],
      "metadata": {
        "colab": {
          "base_uri": "https://localhost:8080/"
        },
        "id": "XW6FW5VVXgOJ",
        "outputId": "563d283c-eb98-4572-aa59-34c106c9428d"
      },
      "execution_count": 20,
      "outputs": [
        {
          "output_type": "stream",
          "name": "stdout",
          "text": [
            "Enter A value : 5\n",
            "Enter A value : 8\n",
            "Enter A value : 1\n",
            "Enter A value : -1\n",
            "moyenne est 2.6666666666666665 \n"
          ]
        }
      ]
    }
  ]
}