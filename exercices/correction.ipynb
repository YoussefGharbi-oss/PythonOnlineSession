{
  "nbformat": 4,
  "nbformat_minor": 0,
  "metadata": {
    "colab": {
      "provenance": [],
      "toc_visible": true,
      "authorship_tag": "ABX9TyNxo6c0S8C//C1c8l7i2mf7",
      "include_colab_link": true
    },
    "kernelspec": {
      "name": "python3",
      "display_name": "Python 3"
    },
    "language_info": {
      "name": "python"
    }
  },
  "cells": [
    {
      "cell_type": "markdown",
      "metadata": {
        "id": "view-in-github",
        "colab_type": "text"
      },
      "source": [
        "<a href=\"https://colab.research.google.com/github/YoussefGharbi-oss/PythonOnlineSession/blob/main/exercices/correction.ipynb\" target=\"_parent\"><img src=\"https://colab.research.google.com/assets/colab-badge.svg\" alt=\"Open In Colab\"/></a>"
      ]
    },
    {
      "cell_type": "code",
      "execution_count": null,
      "metadata": {
        "colab": {
          "base_uri": "https://localhost:8080/"
        },
        "id": "eBQESS-4nTWX",
        "outputId": "9f78699e-d149-4045-a6a1-6bc7aee616e7"
      },
      "outputs": [
        {
          "output_type": "stream",
          "name": "stdout",
          "text": [
            "[0, 1, 1]\n"
          ]
        }
      ],
      "source": [
        "def fibonacci(n : int) :\n",
        "  my_list = []\n",
        "  if n == 0 :\n",
        "    return my_list\n",
        "  elif n == 1 :\n",
        "    my_list.append(0)\n",
        "    return my_list\n",
        "  else :\n",
        "    my_list = [0,1]\n",
        "    for i in range(2,n) :\n",
        "      my_list.append(my_list[-1] + my_list[-2])\n",
        "    return my_list\n",
        "\n",
        "\n",
        "\n",
        "print(fibonacci(3))"
      ]
    },
    {
      "cell_type": "code",
      "source": [
        "def palindrome(my_string) :\n",
        "  middle = len(my_string)//2\n",
        "\n",
        "  for i in range(middle) :\n",
        "\n",
        "    if my_string[i] != my_string[-1 - i] :\n",
        "      return False\n",
        "  return True\n",
        "\n",
        "\n",
        "print(palindrome(\"radar\"))"
      ],
      "metadata": {
        "colab": {
          "base_uri": "https://localhost:8080/"
        },
        "id": "wb3p2AhUpPY0",
        "outputId": "52e2ceba-b918-431a-8b97-b49ab9cd292c"
      },
      "execution_count": null,
      "outputs": [
        {
          "output_type": "stream",
          "name": "stdout",
          "text": [
            "True\n"
          ]
        }
      ]
    },
    {
      "cell_type": "code",
      "source": [
        "def cube(x) :\n",
        "  return x**3\n",
        "\n",
        "def VolumeSphere(r) :\n",
        "  pi = 3.14\n",
        "\n",
        "  V = ((cube(r)*pi)*4)/3\n",
        "  return V\n",
        "rayon = float(input(\"Enter A Value : \"))\n",
        "Volume = VolumeSphere(rayon)\n",
        "print(f\"volume Sphere {Volume} \")"
      ],
      "metadata": {
        "colab": {
          "base_uri": "https://localhost:8080/"
        },
        "id": "M0R4JpM6q843",
        "outputId": "f9ea5b37-7c94-4ffa-f270-7f9bb4e56f2d"
      },
      "execution_count": null,
      "outputs": [
        {
          "output_type": "stream",
          "name": "stdout",
          "text": [
            "Enter A Value : 5\n",
            "volume Sphere 523.3333333333334 \n"
          ]
        }
      ]
    },
    {
      "cell_type": "code",
      "source": [
        "def max_three_values() :\n",
        "  tries = 1\n",
        "  x = int(input(\"Enter a value\"))\n",
        "  max = x\n",
        "  while tries < 3 :\n",
        "    x = int(input(\"Enter a value\"))\n",
        "    if x > max :\n",
        "      max = x\n",
        "\n",
        "    tries += 1\n",
        "\n",
        "  return max\n",
        "\n",
        "\n",
        "max_three_values()\n",
        "\n",
        "\n",
        "\n",
        "\n"
      ],
      "metadata": {
        "colab": {
          "base_uri": "https://localhost:8080/"
        },
        "id": "9nb6QYDHsYxM",
        "outputId": "2c482296-bdb9-4ed5-b643-35fa3c381223"
      },
      "execution_count": null,
      "outputs": [
        {
          "name": "stdout",
          "output_type": "stream",
          "text": [
            "Enter a value18\n",
            "Enter a value52\n",
            "Enter a value1250\n"
          ]
        },
        {
          "output_type": "execute_result",
          "data": {
            "text/plain": [
              "1250"
            ]
          },
          "metadata": {},
          "execution_count": 27
        }
      ]
    },
    {
      "cell_type": "code",
      "source": [
        "def isPrime(x) :\n",
        "  divisor = 2\n",
        "  while divisor <= x//2 :\n",
        "    if(x % divisor == 0) :\n",
        "      return False\n",
        "\n",
        "    divisor += 1\n",
        "  return True\n",
        "\n",
        "def Prime_range(Born_inf,born_sup) :\n",
        "    for number in range(Born_inf,born_sup) :\n",
        "      if isPrime(number) :\n",
        "        print(number)\n",
        "\n",
        "\n",
        "Prime_range(0,100)\n"
      ],
      "metadata": {
        "colab": {
          "base_uri": "https://localhost:8080/"
        },
        "id": "6QCYfcYsuQag",
        "outputId": "f8cce16b-c077-4f22-e989-775126542d43"
      },
      "execution_count": null,
      "outputs": [
        {
          "output_type": "stream",
          "name": "stdout",
          "text": [
            "0\n",
            "1\n",
            "2\n",
            "3\n",
            "5\n",
            "7\n",
            "11\n",
            "13\n",
            "17\n",
            "19\n",
            "23\n",
            "29\n",
            "31\n",
            "37\n",
            "41\n",
            "43\n",
            "47\n",
            "53\n",
            "59\n",
            "61\n",
            "67\n",
            "71\n",
            "73\n",
            "79\n",
            "83\n",
            "89\n",
            "97\n"
          ]
        }
      ]
    },
    {
      "cell_type": "code",
      "source": [
        "def getName() :\n",
        "  Full_name = str(input('Enter Your Full Name : '))\n",
        "  return Full_name\n",
        "\n",
        "def get_distance() :\n",
        "  distance = int(input('Enter Your distance : '))\n",
        "  return distance\n",
        "\n",
        "def get_burn_rate() :\n",
        "  burn = int(input('Enter Your Burn rate : '))\n",
        "  return burn\n",
        "\n",
        "def calc_calories(distance,burn_rate) :\n",
        "  calories = distance * burn_rate\n",
        "  return calories\n",
        "\n",
        "\n",
        "name = getName()\n",
        "distance = get_distance()\n",
        "burn = get_burn_rate()\n",
        "calories = calc_calories(distance,burn)\n",
        "\n",
        "\n",
        "print(f\"{name} burned {calories} Today ! \")\n",
        "\n",
        "\n"
      ],
      "metadata": {
        "colab": {
          "base_uri": "https://localhost:8080/"
        },
        "id": "yRlSbmkHw1ya",
        "outputId": "27228c07-9b95-4e5a-c1d7-c610c6a68cea"
      },
      "execution_count": null,
      "outputs": [
        {
          "output_type": "stream",
          "name": "stdout",
          "text": [
            "Enter Your Full Name : Ahmed\n",
            "Enter Your distance : 65\n",
            "Enter Your Burn rate : 50\n",
            "Ahmed burned 3250 Today ! \n"
          ]
        }
      ]
    },
    {
      "cell_type": "code",
      "source": [
        "def compression(chaine) :\n",
        "  compressed_string = \"\"\n",
        "  i = 0\n",
        "  while i < len(chaine) :\n",
        "    count = 1\n",
        "    compressed_string += chaine[i]\n",
        "    j= i+1\n",
        "    while j < len(chaine) and chaine[j] == chaine[i]:\n",
        "\n",
        "      count += 1\n",
        "      j+=1\n",
        "    compressed_string +=  str(count)\n",
        "    i+=count\n",
        "  return compressed_string\n",
        "\n",
        "compression(\"\")"
      ],
      "metadata": {
        "colab": {
          "base_uri": "https://localhost:8080/",
          "height": 35
        },
        "id": "1IGVHFbIy67p",
        "outputId": "4f0a8ceb-5f4a-42f8-9a31-d09d4673be2c"
      },
      "execution_count": null,
      "outputs": [
        {
          "output_type": "execute_result",
          "data": {
            "text/plain": [
              "'y1o1a3u1s2e1f1'"
            ],
            "application/vnd.google.colaboratory.intrinsic+json": {
              "type": "string"
            }
          },
          "metadata": {},
          "execution_count": 13
        }
      ]
    },
    {
      "cell_type": "code",
      "source": [
        "def verifyMail(email):\n",
        "  spec_char = \"!\\\"#$%&'()*+,-/:;<=>?@[\\\\]^_`{|}~ \"\n",
        "  domains_list = [\"com\" , \"tn\" , \"io\" , \"ai\" , \"du\" , \"net\"]\n",
        "  if \"@\" not in email :\n",
        "    return False\n",
        "\n",
        "  local_part , domain_part = email.split(\"@\")\n",
        "\n",
        "\n",
        "  if len(local_part) < 3 :\n",
        "\n",
        "    return False\n",
        "\n",
        "\n",
        "  if '.' not in  domain_part :\n",
        "\n",
        "    return False\n",
        "\n",
        "  domain = domain_part.split(\".\")[1]\n",
        "  for char in domain_part :\n",
        "    if char in spec_char :\n",
        "\n",
        "      return False\n",
        "\n",
        "\n",
        "  if domain not in domains_list:\n",
        "\n",
        "    return False\n",
        "\n",
        "  if email[0] in \"0123456789\" or email[0] in spec_char :\n",
        "    return False\n",
        "\n",
        "  if len(email)<5 or len(email)>320 :\n",
        "    return False\n",
        "  return True\n",
        "\n",
        "\n",
        "print(verifyMail('youssefgharbi231@esen.tn'))"
      ],
      "metadata": {
        "colab": {
          "base_uri": "https://localhost:8080/"
        },
        "id": "ML7eMui3Oa_J",
        "outputId": "8acd2ef7-da4b-459f-dc42-2c26a58b919e"
      },
      "execution_count": null,
      "outputs": [
        {
          "output_type": "stream",
          "name": "stdout",
          "text": [
            "True\n"
          ]
        }
      ]
    },
    {
      "cell_type": "code",
      "source": [
        "def verifyPassword(born_inf,born_sup , password) :\n",
        "  for char in password :\n",
        "    if char >=  born_inf and char <= born_sup :\n",
        "      return True\n",
        "\n",
        "  return False\n",
        "\n",
        "def mesureStrengthPassword (password) :\n",
        "  score = 0\n",
        "  spec_char = \"!\\\"#$%&'()*+,-/:;<=>?@[\\\\]^_`{|}~ \"\n",
        "  if len(password)> 8 :\n",
        "    score += 1\n",
        "\n",
        "  if verifyPassword(\"0\",\"9\" , password) :\n",
        "    score += 1\n",
        "  if verifyPassword(\"A\",\"Z\" , password) :\n",
        "    score += 1\n",
        "  if verifyPassword(\"a\",\"z\" , password) :\n",
        "    score += 1\n",
        "\n",
        "  return score\n"
      ],
      "metadata": {
        "colab": {
          "base_uri": "https://localhost:8080/"
        },
        "id": "ShVUGDOQTb-m",
        "outputId": "75801ec2-3912-43e8-fa2f-4cf32aade663"
      },
      "execution_count": null,
      "outputs": [
        {
          "output_type": "execute_result",
          "data": {
            "text/plain": [
              "4"
            ]
          },
          "metadata": {},
          "execution_count": 73
        }
      ]
    },
    {
      "cell_type": "code",
      "source": [
        "student ={\n",
        "    \"name\" : \"ahmed\" ,\n",
        "    \"age\" : 23,\n",
        "    \"Note\" : 15.25  ,\n",
        "    \"skills\" : [\"html\" , \"css\" , \"javascript\" , \"python\"]\n",
        "}\n",
        "\n",
        "#Access To an element\n",
        "\n",
        "print(student[\"name\"])\n",
        "print(student[\"age\"])\n",
        "print(student[\"Note\"])\n",
        "print(student.get(\"name\"))\n",
        "#insert an element\n",
        "student[\"Result\"] = \"admis\"\n",
        "student\n",
        "#get keys\n",
        "print(student.keys())\n",
        "#get Values\n",
        "print(student.values())\n",
        "#delete Values :\n",
        "del student[\"Result\"]\n",
        "student\n",
        "student.pop(\"Note\")\n",
        "student\n",
        "#delete last item\n",
        "student.popitem()\n",
        "student\n",
        "\n",
        "\n",
        "print(student.items()\n",
        ")#Loop through a dict\n",
        "for key in student :\n",
        "  print(key, student[key])\n",
        "\n",
        "for key,value in student.items() :\n",
        "  print(key,value)\n",
        "\n",
        "movies = {\n",
        "    \"movie1\" : {\n",
        "        \"title\" : \"the Dark knight\" ,\n",
        "        \"Year\"  : 2009 ,\n",
        "        \"Rate\" : 8.5\n",
        "    },\n",
        "      \"movie2\" : {\n",
        "        \"title\" : \"OpenHeimer\" ,\n",
        "        \"Year\"  : 2023 ,\n",
        "        \"Rate\" : 9.5\n",
        "    },\n",
        "      \"movie3\" : {\n",
        "        \"title\" : \"the conjuring\" ,\n",
        "        \"Year\"  : 2014 ,\n",
        "        \"Rate\" : 7.5\n",
        "    },\n",
        "}\n",
        "print(movies[\"movie1\"][\"Year\"])"
      ],
      "metadata": {
        "colab": {
          "base_uri": "https://localhost:8080/"
        },
        "id": "7-NEZnP-rcbU",
        "outputId": "193172ff-cea6-4e5a-9891-fe2255ccafae"
      },
      "execution_count": null,
      "outputs": [
        {
          "output_type": "stream",
          "name": "stdout",
          "text": [
            "ahmed\n",
            "23\n",
            "15.25\n",
            "ahmed\n",
            "dict_keys(['name', 'age', 'Note', 'skills', 'Result'])\n",
            "dict_values(['ahmed', 23, 15.25, ['html', 'css', 'javascript', 'python'], 'admis'])\n",
            "dict_items([('name', 'ahmed'), ('age', 23)])\n",
            "name ahmed\n",
            "age 23\n",
            "name ahmed\n",
            "age 23\n",
            "2009\n"
          ]
        }
      ]
    }
  ]
}