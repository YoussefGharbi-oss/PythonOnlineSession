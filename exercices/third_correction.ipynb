{
  "nbformat": 4,
  "nbformat_minor": 0,
  "metadata": {
    "colab": {
      "provenance": [],
      "authorship_tag": "ABX9TyNG8EekFO6Zu/dlA2CfCW2l",
      "include_colab_link": true
    },
    "kernelspec": {
      "name": "python3",
      "display_name": "Python 3"
    },
    "language_info": {
      "name": "python"
    }
  },
  "cells": [
    {
      "cell_type": "markdown",
      "metadata": {
        "id": "view-in-github",
        "colab_type": "text"
      },
      "source": [
        "<a href=\"https://colab.research.google.com/github/YoussefGharbi-oss/PythonOnlineSession/blob/main/exercices/third_correction.ipynb\" target=\"_parent\"><img src=\"https://colab.research.google.com/assets/colab-badge.svg\" alt=\"Open In Colab\"/></a>"
      ]
    },
    {
      "cell_type": "code",
      "execution_count": 2,
      "metadata": {
        "colab": {
          "base_uri": "https://localhost:8080/"
        },
        "id": "2VI4Jd3jHUWF",
        "outputId": "1565046c-87c5-41ca-da67-89dc39095f52"
      },
      "outputs": [
        {
          "output_type": "stream",
          "name": "stdout",
          "text": [
            "Enter a value : 5\n",
            "Enter a  Value : 2\n",
            "Enter Your operator %\n",
            "result of 5%2 = 1\n"
          ]
        }
      ],
      "source": [
        "#Enter Value 1\n",
        "first_value = int(input(\"Enter a value : \"))\n",
        "#Enter Value 2\n",
        "second_value = int(input(\"Enter a  Value : \"))\n",
        "#Enter Operator\n",
        "operator = str(input(\"Enter Your operator \"))\n",
        "\n",
        "if operator == \"+\" :\n",
        "  result = first_value + second_value\n",
        "elif operator == \"-\":\n",
        "  result = first_value - second_value\n",
        "elif operator == \"*\" :\n",
        "  result = first_value * second_value\n",
        "elif operator == \"/\" :\n",
        "  result = first_value / second_value\n",
        "elif operator == \"//\" :\n",
        "  result = first_value // second_value\n",
        "elif operator == \"%\" :\n",
        "  result = first_value % second_value\n",
        "else :\n",
        "  print(\"Something went Wrong ! Please Verif your operator ! \")\n",
        "\n",
        "print(f\"result of {first_value}{operator}{second_value} = {result}\")"
      ]
    },
    {
      "cell_type": "markdown",
      "source": [
        "verifier si le chaine est palindrome : RAdar\n",
        "Tot\n",
        "Bonjour : not palindrome"
      ],
      "metadata": {
        "id": "YMAl6FRtJDEl"
      }
    },
    {
      "cell_type": "code",
      "source": [
        "#Enter A string  :\n",
        "my_string = str(input(\"Enter a string : \"))\n",
        "#convert majuscule\n",
        "my_string = my_string.lower()\n",
        "#reversed string\n",
        "reversed_string = my_string[::-1]\n",
        "#comparing\n",
        "if reversed_string == my_string :\n",
        "  print(f\"{my_string} est palindrome \")\n",
        "else :\n",
        "  print(f\"{my_string} n'est pas palindrome \")"
      ],
      "metadata": {
        "colab": {
          "base_uri": "https://localhost:8080/"
        },
        "id": "0HT4Z9jGLwDU",
        "outputId": "9431d9df-0798-4ac6-f58d-7185d8c3b2f4"
      },
      "execution_count": 7,
      "outputs": [
        {
          "output_type": "stream",
          "name": "stdout",
          "text": [
            "Enter a string : Radar\n",
            "radar est palindrome \n"
          ]
        }
      ]
    },
    {
      "cell_type": "markdown",
      "source": [
        "entier de 3 nombre w unité w disaine w centaine\n",
        "345\n",
        "3\n",
        "4\n",
        "5\n",
        "3+4+5 < 10 \"nombre validé\"\n",
        "Hint : bch testa3ml l mod w div w if\n",
        ""
      ],
      "metadata": {
        "id": "HA8ZclwHM-56"
      }
    },
    {
      "cell_type": "code",
      "source": [
        "#Enter 3 chiffre\n",
        "value = int(input('Enter a number : '))\n",
        "#centaine :\n",
        "cent = value // 100\n",
        "#disaine :\n",
        "disaine = ( value % 100 )//10\n",
        "#unité\n",
        "unit = value %10\n",
        "sum\n",
        "somme = cent + disaine + unit\n",
        "if somme > 10 :\n",
        "  print(\"Valid Number \")\n",
        "else :\n",
        "  print(\"No Valid Number \")"
      ],
      "metadata": {
        "colab": {
          "base_uri": "https://localhost:8080/"
        },
        "id": "WBX7VlVCPjaN",
        "outputId": "7813631b-9fd3-426e-b6b7-71a403673a58"
      },
      "execution_count": 11,
      "outputs": [
        {
          "output_type": "stream",
          "name": "stdout",
          "text": [
            "Enter a number : 345\n",
            "Valid Number \n"
          ]
        }
      ]
    }
  ]
}