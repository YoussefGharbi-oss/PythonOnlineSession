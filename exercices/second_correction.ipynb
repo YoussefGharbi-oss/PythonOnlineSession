{
  "nbformat": 4,
  "nbformat_minor": 0,
  "metadata": {
    "colab": {
      "provenance": [],
      "authorship_tag": "ABX9TyN+8iEFf+veLRf+qDRZCYTX",
      "include_colab_link": true
    },
    "kernelspec": {
      "name": "python3",
      "display_name": "Python 3"
    },
    "language_info": {
      "name": "python"
    }
  },
  "cells": [
    {
      "cell_type": "markdown",
      "metadata": {
        "id": "view-in-github",
        "colab_type": "text"
      },
      "source": [
        "<a href=\"https://colab.research.google.com/github/YoussefGharbi-oss/PythonOnlineSession/blob/main/exercices/second_correction.ipynb\" target=\"_parent\"><img src=\"https://colab.research.google.com/assets/colab-badge.svg\" alt=\"Open In Colab\"/></a>"
      ]
    },
    {
      "cell_type": "code",
      "execution_count": null,
      "metadata": {
        "colab": {
          "base_uri": "https://localhost:8080/"
        },
        "id": "nLXT3opC2LyF",
        "outputId": "98be89fb-cc5f-450c-f5b8-73c54b775f60"
      },
      "outputs": [
        {
          "output_type": "stream",
          "name": "stdout",
          "text": [
            "Enter the price : 80\n",
            "Enter Your age :45\n",
            "your final price is :  80.0\n"
          ]
        }
      ],
      "source": [
        "#Task_one\n",
        "prix_initiale = float(input(\"Enter the price : \"))\n",
        "client_age = int(input(\"Enter Your age :\"))\n",
        "if client_age<18 :\n",
        "  prix_finale = prix_initiale * 90/100\n",
        "elif client_age >=60 :\n",
        "  prix_finale = prix_initiale * 85/100\n",
        "else :\n",
        "  prix_finale = prix_initiale\n",
        "\n",
        "print(\"your final price is : \" , prix_finale)"
      ]
    },
    {
      "cell_type": "code",
      "source": [
        " #User_age\n",
        "User_age = int(input(\"Enter Your age :\"))\n",
        "isStudent = str(input(\"You have a student Id : True or False \"))\n",
        "price = None\n",
        "if User_age <12 :\n",
        "  price = 7\n",
        "elif User_age>12 and User_age<=18 :\n",
        "  if isStudent == \"True\" :\n",
        "    price = 8\n",
        "  else :\n",
        "    price = 10\n",
        "else:\n",
        "  if isStudent == \"True\" :\n",
        "    price = 12\n",
        "  else :\n",
        "    price = 15\n",
        "\n",
        "print(price, \"$\")\n"
      ],
      "metadata": {
        "colab": {
          "base_uri": "https://localhost:8080/"
        },
        "id": "PQRJO9EB6xqJ",
        "outputId": "ac7f3c92-ef2a-4a01-95d4-ed24baaf3b5b"
      },
      "execution_count": null,
      "outputs": [
        {
          "output_type": "stream",
          "name": "stdout",
          "text": [
            "Enter Your age :28\n",
            "You have a student Id : True\n",
            "12 $\n"
          ]
        }
      ]
    },
    {
      "cell_type": "code",
      "source": [],
      "metadata": {
        "id": "mDZoM0hT-VlH"
      },
      "execution_count": null,
      "outputs": []
    }
  ]
}