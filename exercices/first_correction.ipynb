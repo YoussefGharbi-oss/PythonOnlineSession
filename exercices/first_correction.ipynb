{
  "nbformat": 4,
  "nbformat_minor": 0,
  "metadata": {
    "colab": {
      "provenance": [],
      "authorship_tag": "ABX9TyOEGvA9clYq7HRRJMDQREbX",
      "include_colab_link": true
    },
    "kernelspec": {
      "name": "python3",
      "display_name": "Python 3"
    },
    "language_info": {
      "name": "python"
    }
  },
  "cells": [
    {
      "cell_type": "markdown",
      "metadata": {
        "id": "view-in-github",
        "colab_type": "text"
      },
      "source": [
        "<a href=\"https://colab.research.google.com/github/YoussefGharbi-oss/PythonOnlineSession/blob/main/exercices/first_correction.ipynb\" target=\"_parent\"><img src=\"https://colab.research.google.com/assets/colab-badge.svg\" alt=\"Open In Colab\"/></a>"
      ]
    },
    {
      "cell_type": "code",
      "execution_count": null,
      "metadata": {
        "colab": {
          "base_uri": "https://localhost:8080/"
        },
        "id": "q87swKVmPma2",
        "outputId": "d82fff61-f574-4253-c8a3-76de79956cff"
      },
      "outputs": [
        {
          "output_type": "stream",
          "name": "stdout",
          "text": [
            "Enter a number : 5\n",
            "Enter a number : 2\n",
            "7\n",
            "sum is : 7\n"
          ]
        }
      ],
      "source": [
        "#input deux Nombre\n",
        "x = int(input(\"Enter a number : \"))\n",
        "y = int(input(\"Enter a number : \"))\n",
        "#output : sum\n",
        "sum = x+y\n",
        "print(sum)\n",
        "#or\n",
        "print(\"sum is :\" ,x+y)"
      ]
    },
    {
      "cell_type": "code",
      "source": [
        "#task2\n",
        "x = int(input(\"Enter a number : \"))\n",
        "print(\"carree :\", x*x)\n",
        "#or\n",
        "caree = x*x\n",
        "print(caree)"
      ],
      "metadata": {
        "colab": {
          "base_uri": "https://localhost:8080/"
        },
        "id": "tKTAiUlvciPa",
        "outputId": "02e7572a-3b42-4a59-fe61-20edd7e17b37"
      },
      "execution_count": null,
      "outputs": [
        {
          "output_type": "stream",
          "name": "stdout",
          "text": [
            "Enter a number : 5\n",
            "carree : 25\n",
            "25\n"
          ]
        }
      ]
    },
    {
      "cell_type": "code",
      "source": [
        "prix_initiale =float(input(\"Enter a price :\"))\n",
        "reduction = prix_initiale*20 /100\n",
        "prix_finale = prix_initiale -  reduction\n",
        "print(\"final price is :\" , prix_finale)\n",
        "#or\n",
        "print(\"final_price is\" , prix_initiale*80/100)"
      ],
      "metadata": {
        "colab": {
          "base_uri": "https://localhost:8080/"
        },
        "id": "aUZpWzOxc1j7",
        "outputId": "3b479a00-d8d0-4aa7-a4f7-635edd8dcc0f"
      },
      "execution_count": null,
      "outputs": [
        {
          "output_type": "stream",
          "name": "stdout",
          "text": [
            "Enter a price :50\n",
            "final price is : 40.0\n",
            "final_price is 40.0\n"
          ]
        }
      ]
    },
    {
      "cell_type": "code",
      "source": [
        "distance_km =float(input(\"Enter a distance :\"))\n",
        "distance_mile = distance_km *0.621371\n",
        "print(\"distance in km is \" , distance_km, \"distance in mile :\" , distance_mile)"
      ],
      "metadata": {
        "colab": {
          "base_uri": "https://localhost:8080/"
        },
        "id": "d-nv5pLFdf6e",
        "outputId": "796d0d8d-58a0-4650-be10-66f9c58e84c9"
      },
      "execution_count": null,
      "outputs": [
        {
          "output_type": "stream",
          "name": "stdout",
          "text": [
            "Enter a distance :20\n",
            "distance in km is  20.0 distance in mile : 12.42742\n"
          ]
        }
      ]
    },
    {
      "cell_type": "code",
      "source": [
        "print('my ' + \"**\" +\"name \" + \"**\" +  \"is \" + \"**\"  + \" youssef\")"
      ],
      "metadata": {
        "colab": {
          "base_uri": "https://localhost:8080/"
        },
        "id": "u3KwSp2Fd8jR",
        "outputId": "44d51b2b-8751-4309-9171-76b97bb3da91"
      },
      "execution_count": null,
      "outputs": [
        {
          "output_type": "stream",
          "name": "stdout",
          "text": [
            "my **name **is ** youssef\n"
          ]
        }
      ]
    },
    {
      "cell_type": "code",
      "source": [
        "rayon = float(input(\"Enter rayon : \"))\n",
        "pi = 3.14\n",
        "C = 2*pi*rayon\n",
        "S = (rayon**2)*pi\n",
        "print(\"C :  \" , C , \"s : \" ,S)"
      ],
      "metadata": {
        "colab": {
          "base_uri": "https://localhost:8080/"
        },
        "id": "4SNs4iiueT6g",
        "outputId": "fe6c13be-275f-4847-bee4-be10d471dc43"
      },
      "execution_count": null,
      "outputs": [
        {
          "output_type": "stream",
          "name": "stdout",
          "text": [
            "Enter rayon : 5\n",
            "C :   31.400000000000002 s :  78.5\n"
          ]
        }
      ]
    }
  ]
}